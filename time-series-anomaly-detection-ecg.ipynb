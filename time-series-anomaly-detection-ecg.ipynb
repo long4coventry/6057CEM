{
  "nbformat": 4,
  "nbformat_minor": 0,
  "metadata": {
    "colab": {
      "name": "06.time-series-anomaly-detection-ecg.ipynb",
      "provenance": []
    },
    "kernelspec": {
      "name": "python3",
      "display_name": "Python 3"
    },
    "accelerator": "GPU"
  },
  "cells": [
    {
      "cell_type": "markdown",
      "metadata": {
        "id": "o40y8HxDYE3G"
      },
      "source": [
        "# Time Series Anomaly Detection using LSTM Autoencoders with PyTorch in Python"
      ]
    },
    {
      "cell_type": "code",
      "metadata": {
        "id": "NyPqdFSzUW8F",
        "outputId": "e687abdc-14af-4058-eeef-dfdf3ebf4bf1",
        "colab": {
          "base_uri": "https://localhost:8080/"
        }
      },
      "source": [
        "!nvidia-smi"
      ],
      "execution_count": 1,
      "outputs": [
        {
          "output_type": "stream",
          "name": "stdout",
          "text": [
            "Sun Mar 19 10:20:55 2023       \n",
            "+-----------------------------------------------------------------------------+\n",
            "| NVIDIA-SMI 525.85.12    Driver Version: 525.85.12    CUDA Version: 12.0     |\n",
            "|-------------------------------+----------------------+----------------------+\n",
            "| GPU  Name        Persistence-M| Bus-Id        Disp.A | Volatile Uncorr. ECC |\n",
            "| Fan  Temp  Perf  Pwr:Usage/Cap|         Memory-Usage | GPU-Util  Compute M. |\n",
            "|                               |                      |               MIG M. |\n",
            "|===============================+======================+======================|\n",
            "|   0  Tesla T4            Off  | 00000000:00:04.0 Off |                    0 |\n",
            "| N/A   54C    P0    24W /  70W |      0MiB / 15360MiB |      0%      Default |\n",
            "|                               |                      |                  N/A |\n",
            "+-------------------------------+----------------------+----------------------+\n",
            "                                                                               \n",
            "+-----------------------------------------------------------------------------+\n",
            "| Processes:                                                                  |\n",
            "|  GPU   GI   CI        PID   Type   Process name                  GPU Memory |\n",
            "|        ID   ID                                                   Usage      |\n",
            "|=============================================================================|\n",
            "|  No running processes found                                                 |\n",
            "+-----------------------------------------------------------------------------+\n"
          ]
        }
      ]
    },
    {
      "cell_type": "code",
      "metadata": {
        "id": "_9tHU5two_TW"
      },
      "source": [
        "import pandas as pd\n",
        "from pandas import DataFrame\n",
        "from scipy.io import arff\n",
        "import numpy as np\n",
        "\n",
        "\n",
        "def load(arff_file,decode_str=True):\n",
        "    \"\"\"Reads an ARFF file via scipy and returns a pandas DataFrame.\n",
        "    Note: same as scipy.io.arff.load, this function does not support ARFF string types.\n",
        "    \n",
        "    Parameters\n",
        "    ----------\n",
        "    arff_file : str\n",
        "        Path to ARFF file.\n",
        "    decode_str : bool\n",
        "        Wether or not sanitize resulting strings (removes the b'')\n",
        "        \n",
        "    Returns\n",
        "    -------\n",
        "    pandas.DataFrame\n",
        "        Columns are ARFF attributes, rows correspond to instances.\n",
        "    \"\"\"\n",
        "    data, meta = arff.loadarff(arff_file) \n",
        "    df = DataFrame(data,columns = meta.names())\n",
        "    if decode_str:        \n",
        "        df_str = df.select_dtypes(include=['object'])        \n",
        "        if not df_str.empty:\n",
        "            df[df_str.columns] = df_str.applymap(lambda x:x.decode('utf-8'))      \n",
        "    return df\n",
        "\n",
        "\n",
        "def _get_arff_meta_dict(dataframe):\n",
        "    \"\"\"Generates a dictionary with the ARFF metadata from a pandas DataFrame.    \n",
        "    \n",
        "    Parameters\n",
        "    ----------\n",
        "    dataframe : pandas.DataFrame\n",
        "        DataFrame returned by `arff2pandas`.    \n",
        "        \n",
        "    Returns\n",
        "    -------\n",
        "    dict\n",
        "        Keys: `_attributes`: attribute list; `_n`: number of instances. Left keys are the attributes properties.\n",
        "    \"\"\"    \n",
        "    meta = {'_attributes':list(dataframe.columns)}\n",
        "    meta['_n'] = dataframe.shape[0]\n",
        "    for c in dataframe.columns:\n",
        "        #print(c,df[c].dtype)\n",
        "        meta[c] = {'dtype':str(dataframe[c].dtype)}\n",
        "        if dataframe[c].dtype == 'object':\n",
        "            meta[c]['type'] = 'nominal'\n",
        "            meta[c]['values'] = list(dataframe[c].unique())\n",
        "            meta[c]['min'] = np.NaN\n",
        "            meta[c]['max'] = np.NaN\n",
        "            meta[c]['mean'] = np.NaN\n",
        "            meta[c]['std'] = np.NaN\n",
        "        elif dataframe[c].dtype  == 'float64':            \n",
        "            meta[c]['type'] = 'numeric'\n",
        "            meta[c]['values'] = len(dataframe[c].unique())\n",
        "            meta[c]['min'] = dataframe[c].min()\n",
        "            meta[c]['max'] = dataframe[c].max()\n",
        "            meta[c]['mean'] = dataframe[c].mean()\n",
        "            meta[c]['std'] = dataframe[c].std()\n",
        "        elif str(dataframe[c].dtype).startswith('date'):            \n",
        "            meta[c]['type'] = 'date'\n",
        "            meta[c]['values'] = len(dataframe[c].unique())\n",
        "            meta[c]['min'] = dataframe[c].min()\n",
        "            meta[c]['max'] = dataframe[c].max()\n",
        "            meta[c]['mean'] = np.NaN\n",
        "            meta[c]['std'] = np.NaN\n",
        "    return meta\n",
        "\n",
        "\n",
        "def get_meta(dataframe):\n",
        "    \"\"\"Generates a DataFrame with from the ARFF metadata from a pandas DataFrame.    \n",
        "    \n",
        "    Parameters\n",
        "    ----------\n",
        "    dataframe : pandas.DataFrame\n",
        "        DataFrame returned by `arff2pandas`.    \n",
        "        \n",
        "    Returns\n",
        "    -------\n",
        "    DataFrame\n",
        "        Rows are attributes, columns are properties.\n",
        "    \"\"\"    \n",
        "    meta = _get_arff_meta_dict(dataframe)\n",
        "    meta.pop('_n',None)\n",
        "    attr_order = meta.pop('_attributes',None)\n",
        "    _df = DataFrame.from_dict(meta,orient='index')\n",
        "    _df = _df.reindex(attr_order)\n",
        "    return _df\n"
      ],
      "execution_count": 2,
      "outputs": []
    },
    {
      "cell_type": "code",
      "metadata": {
        "id": "XRYTtmMDtLuG",
        "colab": {
          "base_uri": "https://localhost:8080/"
        },
        "outputId": "be8147af-8241-4418-8b5e-ba08a8402100"
      },
      "source": [
        "!pip install -q -U watermark"
      ],
      "execution_count": 3,
      "outputs": [
        {
          "output_type": "stream",
          "name": "stdout",
          "text": [
            "\u001b[?25l     \u001b[90m━━━━━━━━━━━━━━━━━━━━━━━━━━━━━━━━━━━━━━━━\u001b[0m \u001b[32m0.0/1.6 MB\u001b[0m \u001b[31m?\u001b[0m eta \u001b[36m-:--:--\u001b[0m\r\u001b[2K     \u001b[91m━━━━━━━\u001b[0m\u001b[91m╸\u001b[0m\u001b[90m━━━━━━━━━━━━━━━━━━━━━━━━━━━━━━━━\u001b[0m \u001b[32m0.3/1.6 MB\u001b[0m \u001b[31m8.5 MB/s\u001b[0m eta \u001b[36m0:00:01\u001b[0m\r\u001b[2K     \u001b[91m━━━━━━━━━━━━━━━━━━━━━━━━━━━━━━━━━━━━━━━\u001b[0m\u001b[91m╸\u001b[0m \u001b[32m1.6/1.6 MB\u001b[0m \u001b[31m26.6 MB/s\u001b[0m eta \u001b[36m0:00:01\u001b[0m\r\u001b[2K     \u001b[90m━━━━━━━━━━━━━━━━━━━━━━━━━━━━━━━━━━━━━━━━\u001b[0m \u001b[32m1.6/1.6 MB\u001b[0m \u001b[31m20.3 MB/s\u001b[0m eta \u001b[36m0:00:00\u001b[0m\n",
            "\u001b[?25h"
          ]
        }
      ]
    },
    {
      "cell_type": "code",
      "metadata": {
        "id": "-ugDZzk5bSju",
        "colab": {
          "base_uri": "https://localhost:8080/"
        },
        "outputId": "8b902c0b-cb5c-4b0e-c628-5fc6f700887c"
      },
      "source": [
        "!pip install -qq -U pandas"
      ],
      "execution_count": 4,
      "outputs": [
        {
          "output_type": "stream",
          "name": "stdout",
          "text": [
            "\u001b[2K     \u001b[90m━━━━━━━━━━━━━━━━━━━━━━━━━━━━━━━━━━━━━━━━\u001b[0m \u001b[32m12.2/12.2 MB\u001b[0m \u001b[31m36.5 MB/s\u001b[0m eta \u001b[36m0:00:00\u001b[0m\n",
            "\u001b[?25h"
          ]
        }
      ]
    },
    {
      "cell_type": "code",
      "metadata": {
        "id": "NgNwOV2jtODd",
        "outputId": "588b4259-950a-4ed8-8f27-634601b91914",
        "colab": {
          "base_uri": "https://localhost:8080/"
        }
      },
      "source": [
        "%reload_ext watermark\n",
        "%watermark -v -p numpy,pandas,torch,arff2pandas"
      ],
      "execution_count": 5,
      "outputs": [
        {
          "output_type": "stream",
          "name": "stdout",
          "text": [
            "Python implementation: CPython\n",
            "Python version       : 3.9.16\n",
            "IPython version      : 7.9.0\n",
            "\n",
            "numpy      : 1.22.4\n",
            "pandas     : 1.5.3\n",
            "torch      : 1.13.1+cu116\n",
            "arff2pandas: not installed\n",
            "\n"
          ]
        }
      ]
    },
    {
      "cell_type": "code",
      "metadata": {
        "id": "3RY_N3gOmfDi",
        "colab": {
          "base_uri": "https://localhost:8080/"
        },
        "outputId": "a4d37365-47f5-4c69-ff40-cb1b299ab937"
      },
      "source": [
        "import torch\n",
        "\n",
        "import copy\n",
        "import numpy as np\n",
        "import pandas as pd\n",
        "import seaborn as sns\n",
        "from pylab import rcParams\n",
        "import matplotlib.pyplot as plt\n",
        "from matplotlib import rc\n",
        "from sklearn.model_selection import train_test_split\n",
        "\n",
        "from torch import nn, optim\n",
        "\n",
        "import torch.nn.functional as F\n",
        "\n",
        "\n",
        "\n",
        "%matplotlib inline\n",
        "%config InlineBackend.figure_format='retina'\n",
        "\n",
        "sns.set(style='whitegrid', palette='muted', font_scale=1.2)\n",
        "\n",
        "HAPPY_COLORS_PALETTE = [\"#01BEFE\", \"#FFDD00\", \"#FF7D00\", \"#FF006D\", \"#ADFF02\", \"#8F00FF\"]\n",
        "\n",
        "sns.set_palette(sns.color_palette(HAPPY_COLORS_PALETTE))\n",
        "\n",
        "rcParams['figure.figsize'] = 12, 8\n",
        "\n",
        "RANDOM_SEED = 42\n",
        "np.random.seed(RANDOM_SEED)\n",
        "torch.manual_seed(RANDOM_SEED)"
      ],
      "execution_count": 6,
      "outputs": [
        {
          "output_type": "execute_result",
          "data": {
            "text/plain": [
              "<torch._C.Generator at 0x7efda74161d0>"
            ]
          },
          "metadata": {},
          "execution_count": 6
        }
      ]
    },
    {
      "cell_type": "markdown",
      "metadata": {
        "id": "RN0e4KktjE88"
      },
      "source": [
        "In this tutorial, you'll learn how to detect anomalies in Time Series data using an LSTM Autoencoder. You're going to use real-world ECG data from a single patient with heart disease to detect abnormal hearbeats.\n",
        "\n",
        "- [Read the tutorial](https://www.curiousily.com/posts/time-series-anomaly-detection-using-lstm-autoencoder-with-pytorch-in-python/)\n",
        "- [Run the notebook in your browser (Google Colab)](https://colab.research.google.com/drive/1_J2MrBSvsJfOcVmYAN2-WSp36BtsFZCa)\n",
        "- [Read the Getting Things Done with Pytorch book](https://github.com/curiousily/Getting-Things-Done-with-Pytorch)\n",
        "\n",
        "By the end of this tutorial, you'll learn how to:\n",
        "\n",
        "- Prepare a dataset for Anomaly Detection from Time Series Data\n",
        "- Build an LSTM Autoencoder with PyTorch\n",
        "- Train and evaluate your model\n",
        "- Choose a threshold for anomaly detection\n",
        "- Classify unseen examples as normal or anomaly"
      ]
    },
    {
      "cell_type": "markdown",
      "metadata": {
        "id": "ZnW3JsIFW_Yw"
      },
      "source": [
        "## Data\n",
        "\n",
        "\n",
        "\n",
        "The [dataset](http://timeseriesclassification.com/description.php?Dataset=ECG5000) contains 5,000 Time Series examples (obtained with ECG) with 140 timesteps. Each sequence corresponds to a single heartbeat from a single patient with congestive heart failure.\n",
        "\n",
        "> An electrocardiogram (ECG or EKG) is a test that checks how your heart is functioning by measuring the electrical activity of the heart. With each heart beat, an electrical impulse (or wave) travels through your heart. This wave causes the muscle to squeeze and pump blood from the heart. [Source](https://www.heartandstroke.ca/heart/tests/electrocardiogram)\n",
        "\n",
        "We have 5 types of hearbeats (classes):\n",
        "\n",
        "- Normal (N) \n",
        "- R-on-T Premature Ventricular Contraction (R-on-T PVC)\n",
        "- Premature Ventricular Contraction (PVC)\n",
        "- Supra-ventricular Premature or Ectopic Beat (SP or EB) \n",
        "- Unclassified Beat (UB).\n",
        "\n",
        "> Assuming a healthy heart and a typical rate of 70 to 75 beats per minute, each cardiac cycle, or heartbeat, takes about 0.8 seconds to complete the cycle.\n",
        "Frequency: 60–100 per minute (Humans)\n",
        "Duration: 0.6–1 second (Humans) [Source](https://en.wikipedia.org/wiki/Cardiac_cycle)\n",
        "\n",
        "The dataset is available on my Google Drive. Let's get it:"
      ]
    },
    {
      "cell_type": "code",
      "metadata": {
        "id": "dDlfeY2VAYdU",
        "outputId": "7f32191a-5043-4256-ee05-7ab4d1d8a755",
        "colab": {
          "base_uri": "https://localhost:8080/"
        }
      },
      "source": [
        "!gdown --id 16MIleqoIr1vYxlGk4GKnGmrsCPuWkkpT"
      ],
      "execution_count": 7,
      "outputs": [
        {
          "output_type": "stream",
          "name": "stdout",
          "text": [
            "/usr/local/lib/python3.9/dist-packages/gdown/cli.py:121: FutureWarning: Option `--id` was deprecated in version 4.3.1 and will be removed in 5.0. You don't need to pass it anymore to use a file ID.\n",
            "  warnings.warn(\n",
            "Downloading...\n",
            "From: https://drive.google.com/uc?id=16MIleqoIr1vYxlGk4GKnGmrsCPuWkkpT\n",
            "To: /content/ECG5000.zip\n",
            "100% 10.6M/10.6M [00:01<00:00, 10.4MB/s]\n"
          ]
        }
      ]
    },
    {
      "cell_type": "code",
      "metadata": {
        "id": "L_gYlNi2AaOK"
      },
      "source": [
        "!unzip -qq ECG5000.zip"
      ],
      "execution_count": 8,
      "outputs": []
    },
    {
      "cell_type": "code",
      "metadata": {
        "id": "DFWsBcdWjDkU"
      },
      "source": [
        "device = torch.device(\"cuda\" if torch.cuda.is_available() else \"cpu\")"
      ],
      "execution_count": 9,
      "outputs": []
    },
    {
      "cell_type": "markdown",
      "metadata": {
        "id": "iVrX_m4CBAD6"
      },
      "source": [
        "The data comes in multiple formats. We'll load the `arff` files into Pandas data frames:"
      ]
    },
    {
      "cell_type": "code",
      "metadata": {
        "id": "sh_8XjtEBVYq"
      },
      "source": [
        "with open('ECG5000_TRAIN.arff') as f:\n",
        "  train = load(f)\n",
        "\n",
        "with open('ECG5000_TEST.arff') as f:\n",
        "  test = load(f)"
      ],
      "execution_count": 10,
      "outputs": []
    },
    {
      "cell_type": "markdown",
      "metadata": {
        "id": "UDtaZ2uTCG11"
      },
      "source": [
        "We'll combine the training and test data into a single data frame. This will give us more data to train our Autoencoder. We'll also shuffle it:"
      ]
    },
    {
      "cell_type": "code",
      "metadata": {
        "id": "tAyxwvbB5-9o",
        "outputId": "6ee39490-0280-480f-b328-2b7b25735071",
        "colab": {
          "base_uri": "https://localhost:8080/"
        }
      },
      "source": [
        "df = train.append(test)\n",
        "df = df.sample(frac=1.0)\n",
        "df.shape"
      ],
      "execution_count": 11,
      "outputs": [
        {
          "output_type": "stream",
          "name": "stderr",
          "text": [
            "<ipython-input-11-0687e4e5ac46>:1: FutureWarning: The frame.append method is deprecated and will be removed from pandas in a future version. Use pandas.concat instead.\n",
            "  df = train.append(test)\n"
          ]
        },
        {
          "output_type": "execute_result",
          "data": {
            "text/plain": [
              "(5000, 141)"
            ]
          },
          "metadata": {},
          "execution_count": 11
        }
      ]
    },
    {
      "cell_type": "code",
      "metadata": {
        "id": "KpkkVdrLCSAs",
        "outputId": "ed01f9e0-b7e5-4405-c60f-4521b8ac22ac",
        "colab": {
          "base_uri": "https://localhost:8080/",
          "height": 299
        }
      },
      "source": [
        "df.head()"
      ],
      "execution_count": 12,
      "outputs": [
        {
          "output_type": "execute_result",
          "data": {
            "text/plain": [
              "          att1      att2      att3      att4      att5      att6      att7  \\\n",
              "1001  1.469756 -1.048520 -3.394356 -4.254399 -4.162834 -3.822570 -3.003609   \n",
              "2086 -1.998602 -3.770552 -4.267091 -4.256133 -3.515288 -2.554540 -1.699639   \n",
              "2153 -1.187772 -3.365038 -3.695653 -4.094781 -3.992549 -3.425381 -2.057643   \n",
              "555   0.604969 -1.671363 -3.236131 -3.966465 -4.067820 -3.551897 -2.582864   \n",
              "205  -1.197203 -3.270123 -3.778723 -3.977574 -3.405060 -2.392634 -1.726322   \n",
              "\n",
              "          att8      att9     att10  ...    att132    att133    att134  \\\n",
              "1001 -1.799773 -1.500033 -1.025095  ...  0.945178  1.275588  1.617218   \n",
              "2086 -1.566366 -1.038815 -0.425483  ...  1.008577  1.024698  1.051141   \n",
              "2153 -1.277729 -1.307397 -0.623098  ...  1.085007  1.467196  1.413850   \n",
              "555  -1.804755 -1.688151 -1.025897  ...  0.545222  0.649363  0.986846   \n",
              "205  -1.572748 -0.920075 -0.388731  ...  0.828168  0.914338  1.063077   \n",
              "\n",
              "        att135    att136    att137    att138    att139    att140  target  \n",
              "1001  1.580279  1.306195  1.351674  1.915517  1.672103 -1.039932       1  \n",
              "2086  1.015352  0.988475  1.050191  1.089509  1.465382  0.799517       1  \n",
              "2153  1.283822  0.923126  0.759235  0.932364  1.216265 -0.824489       1  \n",
              "555   1.234495  1.280039  1.215985  1.617971  2.196543  0.023843       1  \n",
              "205   1.393479  1.469756  1.392281  1.144732  1.668263  1.734676       1  \n",
              "\n",
              "[5 rows x 141 columns]"
            ],
            "text/html": [
              "\n",
              "  <div id=\"df-f03722d1-a86f-4943-be05-7ca2fb922259\">\n",
              "    <div class=\"colab-df-container\">\n",
              "      <div>\n",
              "<style scoped>\n",
              "    .dataframe tbody tr th:only-of-type {\n",
              "        vertical-align: middle;\n",
              "    }\n",
              "\n",
              "    .dataframe tbody tr th {\n",
              "        vertical-align: top;\n",
              "    }\n",
              "\n",
              "    .dataframe thead th {\n",
              "        text-align: right;\n",
              "    }\n",
              "</style>\n",
              "<table border=\"1\" class=\"dataframe\">\n",
              "  <thead>\n",
              "    <tr style=\"text-align: right;\">\n",
              "      <th></th>\n",
              "      <th>att1</th>\n",
              "      <th>att2</th>\n",
              "      <th>att3</th>\n",
              "      <th>att4</th>\n",
              "      <th>att5</th>\n",
              "      <th>att6</th>\n",
              "      <th>att7</th>\n",
              "      <th>att8</th>\n",
              "      <th>att9</th>\n",
              "      <th>att10</th>\n",
              "      <th>...</th>\n",
              "      <th>att132</th>\n",
              "      <th>att133</th>\n",
              "      <th>att134</th>\n",
              "      <th>att135</th>\n",
              "      <th>att136</th>\n",
              "      <th>att137</th>\n",
              "      <th>att138</th>\n",
              "      <th>att139</th>\n",
              "      <th>att140</th>\n",
              "      <th>target</th>\n",
              "    </tr>\n",
              "  </thead>\n",
              "  <tbody>\n",
              "    <tr>\n",
              "      <th>1001</th>\n",
              "      <td>1.469756</td>\n",
              "      <td>-1.048520</td>\n",
              "      <td>-3.394356</td>\n",
              "      <td>-4.254399</td>\n",
              "      <td>-4.162834</td>\n",
              "      <td>-3.822570</td>\n",
              "      <td>-3.003609</td>\n",
              "      <td>-1.799773</td>\n",
              "      <td>-1.500033</td>\n",
              "      <td>-1.025095</td>\n",
              "      <td>...</td>\n",
              "      <td>0.945178</td>\n",
              "      <td>1.275588</td>\n",
              "      <td>1.617218</td>\n",
              "      <td>1.580279</td>\n",
              "      <td>1.306195</td>\n",
              "      <td>1.351674</td>\n",
              "      <td>1.915517</td>\n",
              "      <td>1.672103</td>\n",
              "      <td>-1.039932</td>\n",
              "      <td>1</td>\n",
              "    </tr>\n",
              "    <tr>\n",
              "      <th>2086</th>\n",
              "      <td>-1.998602</td>\n",
              "      <td>-3.770552</td>\n",
              "      <td>-4.267091</td>\n",
              "      <td>-4.256133</td>\n",
              "      <td>-3.515288</td>\n",
              "      <td>-2.554540</td>\n",
              "      <td>-1.699639</td>\n",
              "      <td>-1.566366</td>\n",
              "      <td>-1.038815</td>\n",
              "      <td>-0.425483</td>\n",
              "      <td>...</td>\n",
              "      <td>1.008577</td>\n",
              "      <td>1.024698</td>\n",
              "      <td>1.051141</td>\n",
              "      <td>1.015352</td>\n",
              "      <td>0.988475</td>\n",
              "      <td>1.050191</td>\n",
              "      <td>1.089509</td>\n",
              "      <td>1.465382</td>\n",
              "      <td>0.799517</td>\n",
              "      <td>1</td>\n",
              "    </tr>\n",
              "    <tr>\n",
              "      <th>2153</th>\n",
              "      <td>-1.187772</td>\n",
              "      <td>-3.365038</td>\n",
              "      <td>-3.695653</td>\n",
              "      <td>-4.094781</td>\n",
              "      <td>-3.992549</td>\n",
              "      <td>-3.425381</td>\n",
              "      <td>-2.057643</td>\n",
              "      <td>-1.277729</td>\n",
              "      <td>-1.307397</td>\n",
              "      <td>-0.623098</td>\n",
              "      <td>...</td>\n",
              "      <td>1.085007</td>\n",
              "      <td>1.467196</td>\n",
              "      <td>1.413850</td>\n",
              "      <td>1.283822</td>\n",
              "      <td>0.923126</td>\n",
              "      <td>0.759235</td>\n",
              "      <td>0.932364</td>\n",
              "      <td>1.216265</td>\n",
              "      <td>-0.824489</td>\n",
              "      <td>1</td>\n",
              "    </tr>\n",
              "    <tr>\n",
              "      <th>555</th>\n",
              "      <td>0.604969</td>\n",
              "      <td>-1.671363</td>\n",
              "      <td>-3.236131</td>\n",
              "      <td>-3.966465</td>\n",
              "      <td>-4.067820</td>\n",
              "      <td>-3.551897</td>\n",
              "      <td>-2.582864</td>\n",
              "      <td>-1.804755</td>\n",
              "      <td>-1.688151</td>\n",
              "      <td>-1.025897</td>\n",
              "      <td>...</td>\n",
              "      <td>0.545222</td>\n",
              "      <td>0.649363</td>\n",
              "      <td>0.986846</td>\n",
              "      <td>1.234495</td>\n",
              "      <td>1.280039</td>\n",
              "      <td>1.215985</td>\n",
              "      <td>1.617971</td>\n",
              "      <td>2.196543</td>\n",
              "      <td>0.023843</td>\n",
              "      <td>1</td>\n",
              "    </tr>\n",
              "    <tr>\n",
              "      <th>205</th>\n",
              "      <td>-1.197203</td>\n",
              "      <td>-3.270123</td>\n",
              "      <td>-3.778723</td>\n",
              "      <td>-3.977574</td>\n",
              "      <td>-3.405060</td>\n",
              "      <td>-2.392634</td>\n",
              "      <td>-1.726322</td>\n",
              "      <td>-1.572748</td>\n",
              "      <td>-0.920075</td>\n",
              "      <td>-0.388731</td>\n",
              "      <td>...</td>\n",
              "      <td>0.828168</td>\n",
              "      <td>0.914338</td>\n",
              "      <td>1.063077</td>\n",
              "      <td>1.393479</td>\n",
              "      <td>1.469756</td>\n",
              "      <td>1.392281</td>\n",
              "      <td>1.144732</td>\n",
              "      <td>1.668263</td>\n",
              "      <td>1.734676</td>\n",
              "      <td>1</td>\n",
              "    </tr>\n",
              "  </tbody>\n",
              "</table>\n",
              "<p>5 rows × 141 columns</p>\n",
              "</div>\n",
              "      <button class=\"colab-df-convert\" onclick=\"convertToInteractive('df-f03722d1-a86f-4943-be05-7ca2fb922259')\"\n",
              "              title=\"Convert this dataframe to an interactive table.\"\n",
              "              style=\"display:none;\">\n",
              "        \n",
              "  <svg xmlns=\"http://www.w3.org/2000/svg\" height=\"24px\"viewBox=\"0 0 24 24\"\n",
              "       width=\"24px\">\n",
              "    <path d=\"M0 0h24v24H0V0z\" fill=\"none\"/>\n",
              "    <path d=\"M18.56 5.44l.94 2.06.94-2.06 2.06-.94-2.06-.94-.94-2.06-.94 2.06-2.06.94zm-11 1L8.5 8.5l.94-2.06 2.06-.94-2.06-.94L8.5 2.5l-.94 2.06-2.06.94zm10 10l.94 2.06.94-2.06 2.06-.94-2.06-.94-.94-2.06-.94 2.06-2.06.94z\"/><path d=\"M17.41 7.96l-1.37-1.37c-.4-.4-.92-.59-1.43-.59-.52 0-1.04.2-1.43.59L10.3 9.45l-7.72 7.72c-.78.78-.78 2.05 0 2.83L4 21.41c.39.39.9.59 1.41.59.51 0 1.02-.2 1.41-.59l7.78-7.78 2.81-2.81c.8-.78.8-2.07 0-2.86zM5.41 20L4 18.59l7.72-7.72 1.47 1.35L5.41 20z\"/>\n",
              "  </svg>\n",
              "      </button>\n",
              "      \n",
              "  <style>\n",
              "    .colab-df-container {\n",
              "      display:flex;\n",
              "      flex-wrap:wrap;\n",
              "      gap: 12px;\n",
              "    }\n",
              "\n",
              "    .colab-df-convert {\n",
              "      background-color: #E8F0FE;\n",
              "      border: none;\n",
              "      border-radius: 50%;\n",
              "      cursor: pointer;\n",
              "      display: none;\n",
              "      fill: #1967D2;\n",
              "      height: 32px;\n",
              "      padding: 0 0 0 0;\n",
              "      width: 32px;\n",
              "    }\n",
              "\n",
              "    .colab-df-convert:hover {\n",
              "      background-color: #E2EBFA;\n",
              "      box-shadow: 0px 1px 2px rgba(60, 64, 67, 0.3), 0px 1px 3px 1px rgba(60, 64, 67, 0.15);\n",
              "      fill: #174EA6;\n",
              "    }\n",
              "\n",
              "    [theme=dark] .colab-df-convert {\n",
              "      background-color: #3B4455;\n",
              "      fill: #D2E3FC;\n",
              "    }\n",
              "\n",
              "    [theme=dark] .colab-df-convert:hover {\n",
              "      background-color: #434B5C;\n",
              "      box-shadow: 0px 1px 3px 1px rgba(0, 0, 0, 0.15);\n",
              "      filter: drop-shadow(0px 1px 2px rgba(0, 0, 0, 0.3));\n",
              "      fill: #FFFFFF;\n",
              "    }\n",
              "  </style>\n",
              "\n",
              "      <script>\n",
              "        const buttonEl =\n",
              "          document.querySelector('#df-f03722d1-a86f-4943-be05-7ca2fb922259 button.colab-df-convert');\n",
              "        buttonEl.style.display =\n",
              "          google.colab.kernel.accessAllowed ? 'block' : 'none';\n",
              "\n",
              "        async function convertToInteractive(key) {\n",
              "          const element = document.querySelector('#df-f03722d1-a86f-4943-be05-7ca2fb922259');\n",
              "          const dataTable =\n",
              "            await google.colab.kernel.invokeFunction('convertToInteractive',\n",
              "                                                     [key], {});\n",
              "          if (!dataTable) return;\n",
              "\n",
              "          const docLinkHtml = 'Like what you see? Visit the ' +\n",
              "            '<a target=\"_blank\" href=https://colab.research.google.com/notebooks/data_table.ipynb>data table notebook</a>'\n",
              "            + ' to learn more about interactive tables.';\n",
              "          element.innerHTML = '';\n",
              "          dataTable['output_type'] = 'display_data';\n",
              "          await google.colab.output.renderOutput(dataTable, element);\n",
              "          const docLink = document.createElement('div');\n",
              "          docLink.innerHTML = docLinkHtml;\n",
              "          element.appendChild(docLink);\n",
              "        }\n",
              "      </script>\n",
              "    </div>\n",
              "  </div>\n",
              "  "
            ]
          },
          "metadata": {},
          "execution_count": 12
        }
      ]
    },
    {
      "cell_type": "markdown",
      "metadata": {
        "id": "K_f7F-ipCZNH"
      },
      "source": [
        "We have 5,000 examples. Each row represents a single heartbeat record. Let's name the possible classes:"
      ]
    },
    {
      "cell_type": "code",
      "metadata": {
        "id": "9fcKHB5rcDcm"
      },
      "source": [
        "CLASS_NORMAL = 1\n",
        "\n",
        "class_names = ['Normal','R on T','PVC','SP','UB']"
      ],
      "execution_count": 13,
      "outputs": []
    },
    {
      "cell_type": "markdown",
      "metadata": {
        "id": "TFWOyTF3CpgT"
      },
      "source": [
        "Next, we'll rename the last column to `target`, so its easier to reference it:"
      ]
    },
    {
      "cell_type": "code",
      "metadata": {
        "id": "6bfjzgJ7YEww"
      },
      "source": [
        "new_columns = list(df.columns)\n",
        "new_columns[-1] = 'target'\n",
        "df.columns = new_columns"
      ],
      "execution_count": 14,
      "outputs": []
    },
    {
      "cell_type": "markdown",
      "metadata": {
        "id": "nlf5aVLnjRCz"
      },
      "source": [
        "## Exploratory Data Analysis\n",
        "\n",
        "Let's check how many examples for each heartbeat class do we have:"
      ]
    },
    {
      "cell_type": "code",
      "metadata": {
        "id": "QBxuqD1cdd2y",
        "outputId": "0026d63b-f901-4253-f011-99f60db67ca9",
        "colab": {
          "base_uri": "https://localhost:8080/"
        }
      },
      "source": [
        "df.target.value_counts()"
      ],
      "execution_count": 15,
      "outputs": [
        {
          "output_type": "execute_result",
          "data": {
            "text/plain": [
              "1    2919\n",
              "2    1767\n",
              "4     194\n",
              "3      96\n",
              "5      24\n",
              "Name: target, dtype: int64"
            ]
          },
          "metadata": {},
          "execution_count": 15
        }
      ]
    },
    {
      "cell_type": "markdown",
      "metadata": {
        "id": "2EZVZYCsQKXV"
      },
      "source": [
        "Let's plot the results:"
      ]
    },
    {
      "cell_type": "code",
      "metadata": {
        "id": "wn4s427Sf4eb",
        "outputId": "0d6142bb-e30f-4f25-b51b-e6c2fe608af8",
        "colab": {
          "base_uri": "https://localhost:8080/",
          "height": 506
        }
      },
      "source": [
        "ax = sns.countplot(x=df.target)\n",
        "ax.set_xticklabels(class_names);"
      ],
      "execution_count": 17,
      "outputs": [
        {
          "output_type": "display_data",
          "data": {
            "text/plain": [
              "<Figure size 864x576 with 1 Axes>"
            ],
            "image/png": "[encoded data removed]"
          },
          "metadata": {
            "image/png": {
              "width": 745,
              "height": 489
            }
          }
        }
      ]
    },
    {
      "cell_type": "markdown",
      "metadata": {
        "id": "e2m55fTyRNIf"
      },
      "source": [
        "The normal class, has by far, the most examples. This is great because we'll use it to train our model.\n",
        "\n",
        "Let's have a look at an averaged (smoothed out with one standard deviation on top and bottom of it) Time Series for each class:"
      ]
    },
    {
      "cell_type": "code",
      "metadata": {
        "id": "UVvG0vhiU-ju"
      },
      "source": [
        "def plot_time_series_class(data, class_name, ax, n_steps=10):\n",
        "  time_series_df = pd.DataFrame(data)\n",
        "\n",
        "  smooth_path = time_series_df.rolling(n_steps).mean()\n",
        "  path_deviation = 2 * time_series_df.rolling(n_steps).std()\n",
        "\n",
        "  under_line = (smooth_path - path_deviation)[0]\n",
        "  over_line = (smooth_path + path_deviation)[0]\n",
        "\n",
        "  ax.plot(smooth_path, linewidth=2)\n",
        "  ax.fill_between(\n",
        "    path_deviation.index,\n",
        "    under_line,\n",
        "    over_line,\n",
        "    alpha=.125\n",
        "  )\n",
        "  ax.set_title(class_name)"
      ],
      "execution_count": 18,
      "outputs": []
    },
    {
      "cell_type": "code",
      "metadata": {
        "id": "xHaslHZ8JMSk",
        "outputId": "0f95b0f8-04e6-4dad-ac5c-a2a75b90f098",
        "colab": {
          "base_uri": "https://localhost:8080/",
          "height": 576
        }
      },
      "source": [
        "classes = df.target.unique()\n",
        "\n",
        "fig, axs = plt.subplots(\n",
        "  nrows=len(classes) // 3 + 1,\n",
        "  ncols=3,\n",
        "  sharey=True,\n",
        "  figsize=(14, 8)\n",
        ")\n",
        "\n",
        "for i, cls in enumerate(classes):\n",
        "  ax = axs.flat[i]\n",
        "  data = df[df.target == cls] \\\n",
        "    .drop(labels='target', axis=1) \\\n",
        "    .mean(axis=0) \\\n",
        "    .to_numpy()\n",
        "  plot_time_series_class(data, class_names[i], ax)\n",
        "\n",
        "fig.delaxes(axs.flat[-1])\n",
        "fig.tight_layout();"
      ],
      "execution_count": 19,
      "outputs": [
        {
          "output_type": "display_data",
          "data": {
            "text/plain": [
              "<Figure size 1008x576 with 5 Axes>"
            ],
            "image/png": "[encoded data removed]"
          },
          "metadata": {
            "image/png": {
              "width": 991,
              "height": 559
            }
          }
        }
      ]
    },
    {
      "cell_type": "markdown",
      "metadata": {
        "id": "jDt33QoDTUIb"
      },
      "source": [
        "It is very good that the normal class has a distinctly different pattern than all other classes. Maybe our model will be able to detect anomalies?"
      ]
    },
    {
      "cell_type": "markdown",
      "metadata": {
        "id": "gJRQl1p0Q57K"
      },
      "source": [
        "## LSTM Autoencoder\n",
        "\n",
        "The [Autoencoder's](https://en.wikipedia.org/wiki/Autoencoder) job is to get some input data, pass it through the model, and obtain a reconstruction of the input. The reconstruction should match the input as much as possible. The trick is to use a small number of parameters, so your model learns a compressed representation of the data.\n",
        "\n",
        "In a sense, Autoencoders try to learn only the most important features (compressed version) of the data. Here, we'll have a look at how to feed Time Series data to an Autoencoder. We'll use a couple of LSTM layers (hence the LSTM Autoencoder) to capture the temporal dependencies of the data.\n",
        "\n",
        "To classify a sequence as normal or an anomaly, we'll pick a threshold above which a heartbeat is considered abnormal.\n",
        "\n",
        "### Reconstruction Loss\n",
        "\n",
        "When training an Autoencoder, the objective is to reconstruct the input as best as possible. This is done by minimizing a loss function (just like in supervised learning). This function is known as *reconstruction loss*. Cross-entropy loss and Mean squared error are common examples."
      ]
    },
    {
      "cell_type": "markdown",
      "metadata": {
        "id": "eFZ3o2F8eUaW"
      },
      "source": [
        "## Anomaly Detection in ECG Data\n",
        "\n",
        "We'll use normal heartbeats as training data for our model and record the *reconstruction loss*. But first, we need to prepare the data:"
      ]
    },
    {
      "cell_type": "markdown",
      "metadata": {
        "id": "QGKKj6fgUV_a"
      },
      "source": [
        "### Data Preprocessing\n",
        "\n",
        "Let's get all normal heartbeats and drop the target (class) column:"
      ]
    },
    {
      "cell_type": "code",
      "metadata": {
        "id": "NA0k8mTijyh-",
        "outputId": "8f1ce135-0d32-457d-d413-dc79bc7f87e0",
        "colab": {
          "base_uri": "https://localhost:8080/"
        }
      },
      "source": [
        "normal_df = df[df.target == str(CLASS_NORMAL)].drop(labels='target', axis=1)\n",
        "normal_df.shape"
      ],
      "execution_count": 20,
      "outputs": [
        {
          "output_type": "execute_result",
          "data": {
            "text/plain": [
              "(2919, 140)"
            ]
          },
          "metadata": {},
          "execution_count": 20
        }
      ]
    },
    {
      "cell_type": "markdown",
      "metadata": {
        "id": "PRCZ7uviaI1Y"
      },
      "source": [
        "We'll merge all other classes and mark them as anomalies:"
      ]
    },
    {
      "cell_type": "code",
      "metadata": {
        "id": "xpdXIaDJstD3",
        "outputId": "603abebd-b431-48f1-e8d2-d478551ccba2",
        "colab": {
          "base_uri": "https://localhost:8080/"
        }
      },
      "source": [
        "anomaly_df = df[df.target != str(CLASS_NORMAL)].drop(labels='target', axis=1)\n",
        "anomaly_df.shape"
      ],
      "execution_count": 21,
      "outputs": [
        {
          "output_type": "execute_result",
          "data": {
            "text/plain": [
              "(2081, 140)"
            ]
          },
          "metadata": {},
          "execution_count": 21
        }
      ]
    },
    {
      "cell_type": "markdown",
      "metadata": {
        "id": "ILcJJwpda15z"
      },
      "source": [
        "We'll split the normal examples into train, validation and test sets:"
      ]
    },
    {
      "cell_type": "code",
      "metadata": {
        "id": "n7kJ7C3IFWIV"
      },
      "source": [
        "train_df, val_df = train_test_split(\n",
        "  normal_df,\n",
        "  test_size=0.15,\n",
        "  random_state=RANDOM_SEED\n",
        ")\n",
        "\n",
        "val_df, test_df = train_test_split(\n",
        "  val_df,\n",
        "  test_size=0.33, \n",
        "  random_state=RANDOM_SEED\n",
        ")"
      ],
      "execution_count": 22,
      "outputs": []
    },
    {
      "cell_type": "markdown",
      "metadata": {
        "id": "nWasRQ1dcAp4"
      },
      "source": [
        "We need to convert our examples into tensors, so we can use them to train our Autoencoder. Let's write a helper function for that:"
      ]
    },
    {
      "cell_type": "code",
      "metadata": {
        "id": "h2kKiIIeBwKb"
      },
      "source": [
        "def create_dataset(df):\n",
        "\n",
        "  sequences = df.astype(np.float32).to_numpy().tolist()\n",
        "\n",
        "  dataset = [torch.tensor(s).unsqueeze(1).float() for s in sequences]\n",
        "\n",
        "  n_seq, seq_len, n_features = torch.stack(dataset).shape\n",
        "\n",
        "  return dataset, seq_len, n_features"
      ],
      "execution_count": 23,
      "outputs": []
    },
    {
      "cell_type": "markdown",
      "metadata": {
        "id": "WT4BekX2g4L_"
      },
      "source": [
        "Each Time Series will be converted to a 2D Tensor in the shape *sequence length* x *number of features* (140x1 in our case).\n",
        "\n",
        "Let's create some datasets:"
      ]
    },
    {
      "cell_type": "code",
      "metadata": {
        "id": "Rb1UeUwbjmMD"
      },
      "source": [
        "train_dataset, seq_len, n_features = create_dataset(train_df)\n",
        "val_dataset, _, _ = create_dataset(val_df)\n",
        "test_normal_dataset, _, _ = create_dataset(test_df)\n",
        "test_anomaly_dataset, _, _ = create_dataset(anomaly_df)"
      ],
      "execution_count": 24,
      "outputs": []
    },
    {
      "cell_type": "markdown",
      "metadata": {
        "id": "gLe1hXvRUSnA"
      },
      "source": [
        "### LSTM Autoencoder\n",
        "\n",
        "![Autoencoder](https://lilianweng.github.io/lil-log/assets/images/autoencoder-architecture.png)\n",
        "*Sample Autoencoder Architecture [Image Source](https://lilianweng.github.io/lil-log/2018/08/12/from-autoencoder-to-beta-vae.html)*"
      ]
    },
    {
      "cell_type": "markdown",
      "metadata": {
        "id": "SgZpEEzfqxNp"
      },
      "source": [
        "The general Autoencoder architecture consists of two components. An *Encoder* that compresses the input and a *Decoder* that tries to reconstruct it.\n",
        "\n",
        "We'll use the LSTM Autoencoder from this [GitHub repo](https://github.com/shobrook/sequitur) with some small tweaks. Our model's job is to reconstruct Time Series data. Let's start with the *Encoder*:"
      ]
    },
    {
      "cell_type": "code",
      "metadata": {
        "id": "X_f1WaTJhiXy"
      },
      "source": [
        "class Encoder(nn.Module):\n",
        "\n",
        "  def __init__(self, seq_len, n_features, embedding_dim=64):\n",
        "    super(Encoder, self).__init__()\n",
        "\n",
        "    self.seq_len, self.n_features = seq_len, n_features\n",
        "    self.embedding_dim, self.hidden_dim = embedding_dim, 2 * embedding_dim\n",
        "\n",
        "    self.rnn1 = nn.LSTM(\n",
        "      input_size=n_features,\n",
        "      hidden_size=self.hidden_dim,\n",
        "      num_layers=1,\n",
        "      batch_first=True\n",
        "    )\n",
        "    \n",
        "    self.rnn2 = nn.LSTM(\n",
        "      input_size=self.hidden_dim,\n",
        "      hidden_size=embedding_dim,\n",
        "      num_layers=1,\n",
        "      batch_first=True\n",
        "    )\n",
        "\n",
        "  def forward(self, x):\n",
        "    x = x.reshape((1, self.seq_len, self.n_features))\n",
        "\n",
        "    x, (_, _) = self.rnn1(x)\n",
        "    x, (hidden_n, _) = self.rnn2(x)\n",
        "\n",
        "    return hidden_n.reshape((self.n_features, self.embedding_dim))"
      ],
      "execution_count": 25,
      "outputs": []
    },
    {
      "cell_type": "markdown",
      "metadata": {
        "id": "DysklqYmxTib"
      },
      "source": [
        "The *Encoder* uses two LSTM layers to compress the Time Series data input.\n",
        "\n",
        "Next, we'll decode the compressed representation using a *Decoder*:"
      ]
    },
    {
      "cell_type": "code",
      "metadata": {
        "id": "AdEft7l3hk6S"
      },
      "source": [
        "class Decoder(nn.Module):\n",
        "\n",
        "  def __init__(self, seq_len, input_dim=64, n_features=1):\n",
        "    super(Decoder, self).__init__()\n",
        "\n",
        "    self.seq_len, self.input_dim = seq_len, input_dim\n",
        "    self.hidden_dim, self.n_features = 2 * input_dim, n_features\n",
        "\n",
        "    self.rnn1 = nn.LSTM(\n",
        "      input_size=input_dim,\n",
        "      hidden_size=input_dim,\n",
        "      num_layers=1,\n",
        "      batch_first=True\n",
        "    )\n",
        "\n",
        "    self.rnn2 = nn.LSTM(\n",
        "      input_size=input_dim,\n",
        "      hidden_size=self.hidden_dim,\n",
        "      num_layers=1,\n",
        "      batch_first=True\n",
        "    )\n",
        "\n",
        "    self.output_layer = nn.Linear(self.hidden_dim, n_features)\n",
        "\n",
        "  def forward(self, x):\n",
        "    x = x.repeat(self.seq_len, self.n_features)\n",
        "    x = x.reshape((self.n_features, self.seq_len, self.input_dim))\n",
        "\n",
        "    x, (hidden_n, cell_n) = self.rnn1(x)\n",
        "    x, (hidden_n, cell_n) = self.rnn2(x)\n",
        "    x = x.reshape((self.seq_len, self.hidden_dim))\n",
        "\n",
        "    return self.output_layer(x)"
      ],
      "execution_count": 26,
      "outputs": []
    },
    {
      "cell_type": "markdown",
      "metadata": {
        "id": "WUMb2NGZyTmi"
      },
      "source": [
        "Our Decoder contains two LSTM layers and an output layer that gives the final reconstruction.\n",
        "\n",
        "Time to wrap everything into an easy to use module:"
      ]
    },
    {
      "cell_type": "code",
      "metadata": {
        "id": "vgUChGd_A-Bv"
      },
      "source": [
        "class RecurrentAutoencoder(nn.Module):\n",
        "\n",
        "  def __init__(self, seq_len, n_features, embedding_dim=64):\n",
        "    super(RecurrentAutoencoder, self).__init__()\n",
        "\n",
        "    self.encoder = Encoder(seq_len, n_features, embedding_dim).to(device)\n",
        "    self.decoder = Decoder(seq_len, embedding_dim, n_features).to(device)\n",
        "\n",
        "  def forward(self, x):\n",
        "    x = self.encoder(x)\n",
        "    x = self.decoder(x)\n",
        "\n",
        "    return x"
      ],
      "execution_count": 27,
      "outputs": []
    },
    {
      "cell_type": "markdown",
      "metadata": {
        "id": "zT6Cwq78sOrI"
      },
      "source": [
        "Our Autoencoder passes the input through the Encoder and Decoder. Let's create an instance of it:"
      ]
    },
    {
      "cell_type": "code",
      "metadata": {
        "id": "Mo0rvFqRBgnu"
      },
      "source": [
        "model = RecurrentAutoencoder(seq_len, n_features, 128)\n",
        "model = model.to(device)"
      ],
      "execution_count": 28,
      "outputs": []
    },
    {
      "cell_type": "markdown",
      "metadata": {
        "id": "n1ENnubQdnJN"
      },
      "source": [
        "## Training\n",
        "\n",
        "Let's write a helper function for our training process:"
      ]
    },
    {
      "cell_type": "code",
      "metadata": {
        "id": "ryEmRvl9DfEj"
      },
      "source": [
        "def train_model(model, train_dataset, val_dataset, n_epochs):\n",
        "  optimizer = torch.optim.Adam(model.parameters(), lr=1e-3)\n",
        "  criterion = nn.L1Loss(reduction='sum').to(device)\n",
        "  history = dict(train=[], val=[])\n",
        "\n",
        "  best_model_wts = copy.deepcopy(model.state_dict())\n",
        "  best_loss = 10000.0\n",
        "  \n",
        "  for epoch in range(1, n_epochs + 1):\n",
        "    model = model.train()\n",
        "\n",
        "    train_losses = []\n",
        "    for seq_true in train_dataset:\n",
        "      optimizer.zero_grad()\n",
        "\n",
        "      seq_true = seq_true.to(device)\n",
        "      seq_pred = model(seq_true)\n",
        "\n",
        "      loss = criterion(seq_pred, seq_true)\n",
        "\n",
        "      loss.backward()\n",
        "      optimizer.step()\n",
        "\n",
        "      train_losses.append(loss.item())\n",
        "\n",
        "    val_losses = []\n",
        "    model = model.eval()\n",
        "    with torch.no_grad():\n",
        "      for seq_true in val_dataset:\n",
        "\n",
        "        seq_true = seq_true.to(device)\n",
        "        seq_pred = model(seq_true)\n",
        "\n",
        "        loss = criterion(seq_pred, seq_true)\n",
        "        val_losses.append(loss.item())\n",
        "\n",
        "    train_loss = np.mean(train_losses)\n",
        "    val_loss = np.mean(val_losses)\n",
        "\n",
        "    history['train'].append(train_loss)\n",
        "    history['val'].append(val_loss)\n",
        "\n",
        "    if val_loss < best_loss:\n",
        "      best_loss = val_loss\n",
        "      best_model_wts = copy.deepcopy(model.state_dict())\n",
        "\n",
        "    print(f'Epoch {epoch}: train loss {train_loss} val loss {val_loss}')\n",
        "\n",
        "  model.load_state_dict(best_model_wts)\n",
        "  return model.eval(), history"
      ],
      "execution_count": 29,
      "outputs": []
    },
    {
      "cell_type": "markdown",
      "metadata": {
        "id": "7iWQrzV1ASpW"
      },
      "source": [
        "At each epoch, the training process feeds our model with all training examples and evaluates the performance on the validation set. Note that we're using a batch size of 1 (our model sees only 1 sequence at a time). We also record the training and validation set losses during the process.\n",
        "\n",
        "Note that we're minimizing the [L1Loss](https://pytorch.org/docs/stable/nn.html#l1loss), which measures the MAE (mean absolute error). Why? The reconstructions seem to be better than with MSE (mean squared error).\n",
        "\n",
        "We'll get the version of the model with the smallest validation error. Let's do some training:"
      ]
    },
    {
      "cell_type": "code",
      "metadata": {
        "id": "saamYyUsHdw0",
        "outputId": "f4444863-98fd-49f8-9254-d7572e9bf6fe",
        "colab": {
          "base_uri": "https://localhost:8080/"
        }
      },
      "source": [
        "model, history = train_model(\n",
        "  model, \n",
        "  train_dataset, \n",
        "  val_dataset, \n",
        "  n_epochs=150\n",
        ")"
      ],
      "execution_count": null,
      "outputs": [
        {
          "output_type": "stream",
          "name": "stdout",
          "text": [
            "Epoch 1: train loss 67.683729358567 val loss 56.75508897540512\n",
            "Epoch 2: train loss 53.92685293776525 val loss 47.920838209549316\n",
            "Epoch 3: train loss 43.78901875168025 val loss 40.698488834368085\n",
            "Epoch 4: train loss 40.43842722013659 val loss 42.30108438172845\n",
            "Epoch 5: train loss 36.76070157273649 val loss 38.43288225037246\n",
            "Epoch 6: train loss 49.929095787561884 val loss 53.7342424490346\n",
            "Epoch 7: train loss 53.74104816478282 val loss 55.002596637087876\n",
            "Epoch 8: train loss 51.66696907636957 val loss 48.88005369271028\n",
            "Epoch 9: train loss 51.21860183875727 val loss 49.13360155645898\n",
            "Epoch 10: train loss 39.85691953964264 val loss 40.498124998177275\n",
            "Epoch 11: train loss 29.91476116964578 val loss 28.048941449500596\n",
            "Epoch 12: train loss 27.602184548199247 val loss 27.772025674683242\n",
            "Epoch 13: train loss 26.101889719841992 val loss 24.189716166603688\n",
            "Epoch 14: train loss 25.679133903398863 val loss 22.727669676823012\n",
            "Epoch 15: train loss 24.599690085214647 val loss 26.295964494907\n",
            "Epoch 16: train loss 23.70789039447297 val loss 29.570297911712334\n",
            "Epoch 17: train loss 23.777689987976 val loss 20.65577368036472\n",
            "Epoch 18: train loss 23.388136409742607 val loss 21.214259886497523\n",
            "Epoch 19: train loss 22.470597636550725 val loss 20.10973519920896\n",
            "Epoch 20: train loss 22.04539203105651 val loss 21.626732165496097\n",
            "Epoch 21: train loss 21.667971175892227 val loss 23.610667912219572\n",
            "Epoch 22: train loss 20.846295739988413 val loss 18.415894557184732\n",
            "Epoch 23: train loss 20.816301194375104 val loss 18.030060647697578\n",
            "Epoch 24: train loss 20.562356319027725 val loss 18.80732833484741\n",
            "Epoch 25: train loss 19.894728026338182 val loss 18.228119983608\n",
            "Epoch 26: train loss 19.47832593375855 val loss 17.399122446470294\n"
          ]
        }
      ]
    },
    {
      "cell_type": "code",
      "metadata": {
        "id": "uztvlmNkQSUE"
      },
      "source": [
        "ax = plt.figure().gca()\n",
        "\n",
        "ax.plot(history['train'])\n",
        "ax.plot(history['val'])\n",
        "plt.ylabel('Loss')\n",
        "plt.xlabel('Epoch')\n",
        "plt.legend(['train', 'test'])\n",
        "plt.title('Loss over training epochs')\n",
        "plt.show();"
      ],
      "execution_count": null,
      "outputs": []
    },
    {
      "cell_type": "markdown",
      "metadata": {
        "id": "X2IGZFBEVJjq"
      },
      "source": [
        "Our model converged quite well. Seems like we might've needed a larger validation set to smoothen the results, but that'll do for now."
      ]
    },
    {
      "cell_type": "markdown",
      "metadata": {
        "id": "pmoaNSERn09J"
      },
      "source": [
        "## Saving the model\n",
        "\n",
        "Let's store the model for later use:"
      ]
    },
    {
      "cell_type": "code",
      "metadata": {
        "id": "tLC_ClIpnv9H"
      },
      "source": [
        "MODEL_PATH = 'model.pth'\n",
        "\n",
        "torch.save(model, MODEL_PATH)"
      ],
      "execution_count": null,
      "outputs": []
    },
    {
      "cell_type": "markdown",
      "metadata": {
        "id": "E6q7H7-ea-Lb"
      },
      "source": [
        "Uncomment the next lines, if you want to download and load the pre-trained model:"
      ]
    },
    {
      "cell_type": "code",
      "metadata": {
        "id": "e4Hxo-Xftiej"
      },
      "source": [
        "# !gdown --id 1jEYx5wGsb7Ix8cZAw3l5p5pOwHs3_I9A\n",
        "# model = torch.load('model.pth')\n",
        "# model = model.to(device)"
      ],
      "execution_count": null,
      "outputs": []
    },
    {
      "cell_type": "markdown",
      "metadata": {
        "id": "EwLujPFXT054"
      },
      "source": [
        "## Choosing a threshold\n",
        "\n",
        "With our model at hand, we can have a look at the reconstruction error on the training set. Let's start by writing a helper function to get predictions from our model:"
      ]
    },
    {
      "cell_type": "code",
      "metadata": {
        "id": "AAhYZy9bRNLM"
      },
      "source": [
        "def predict(model, dataset):\n",
        "  predictions, losses = [], []\n",
        "  criterion = nn.L1Loss(reduction='sum').to(device)\n",
        "  with torch.no_grad():\n",
        "    model = model.eval()\n",
        "    for seq_true in dataset:\n",
        "      seq_true = seq_true.to(device)\n",
        "      seq_pred = model(seq_true)\n",
        "\n",
        "      loss = criterion(seq_pred, seq_true)\n",
        "\n",
        "      predictions.append(seq_pred.cpu().numpy().flatten())\n",
        "      losses.append(loss.item())\n",
        "  return predictions, losses"
      ],
      "execution_count": null,
      "outputs": []
    },
    {
      "cell_type": "markdown",
      "metadata": {
        "id": "wVnNtIreDXf5"
      },
      "source": [
        "Our function goes through each example in the dataset and records the predictions and losses. Let's get the losses and have a look at them:"
      ]
    },
    {
      "cell_type": "code",
      "metadata": {
        "id": "pvn141SDS33P"
      },
      "source": [
        "_, losses = predict(model, train_dataset)\n",
        "\n",
        "sns.distplot(losses, bins=50, kde=True);"
      ],
      "execution_count": null,
      "outputs": []
    },
    {
      "cell_type": "code",
      "metadata": {
        "id": "MjSCtDZ8_xGB"
      },
      "source": [
        "THRESHOLD = 26"
      ],
      "execution_count": null,
      "outputs": []
    },
    {
      "cell_type": "markdown",
      "metadata": {
        "id": "mw2dm631T4a5"
      },
      "source": [
        "## Evaluation\n",
        "\n",
        "Using the threshold, we can turn the problem into a simple binary classification task:\n",
        "\n",
        "- If the reconstruction loss for an example is below the threshold, we'll classify it as a *normal* heartbeat\n",
        "- Alternatively, if the loss is higher than the threshold, we'll classify it as an anomaly"
      ]
    },
    {
      "cell_type": "markdown",
      "metadata": {
        "id": "k94t9U3X7uVA"
      },
      "source": [
        "### Normal hearbeats\n",
        "\n",
        "Let's check how well our model does on normal heartbeats. We'll use the normal heartbeats from the test set (our model haven't seen those):"
      ]
    },
    {
      "cell_type": "code",
      "metadata": {
        "id": "-z630B5v7Fid"
      },
      "source": [
        "predictions, pred_losses = predict(model, test_normal_dataset)\n",
        "sns.distplot(pred_losses, bins=50, kde=True);"
      ],
      "execution_count": null,
      "outputs": []
    },
    {
      "cell_type": "markdown",
      "metadata": {
        "id": "xCmzETkkLLvh"
      },
      "source": [
        "We'll count the correct predictions:"
      ]
    },
    {
      "cell_type": "code",
      "metadata": {
        "id": "BR-hcvUP7OBt"
      },
      "source": [
        "correct = sum(l <= THRESHOLD for l in pred_losses)\n",
        "print(f'Correct normal predictions: {correct}/{len(test_normal_dataset)}')"
      ],
      "execution_count": null,
      "outputs": []
    },
    {
      "cell_type": "markdown",
      "metadata": {
        "id": "hYbH8iEz7wmh"
      },
      "source": [
        "### Anomalies"
      ]
    },
    {
      "cell_type": "markdown",
      "metadata": {
        "id": "hidyhcu6zC8-"
      },
      "source": [
        "We'll do the same with the anomaly examples, but their number is much higher. We'll get a subset that has the same size as the normal heartbeats:"
      ]
    },
    {
      "cell_type": "code",
      "metadata": {
        "id": "WJcg5DXWyiep"
      },
      "source": [
        "anomaly_dataset = test_anomaly_dataset[:len(test_normal_dataset)]"
      ],
      "execution_count": null,
      "outputs": []
    },
    {
      "cell_type": "markdown",
      "metadata": {
        "id": "gcBoplGU0hR8"
      },
      "source": [
        "Now we can take the predictions of our model for the subset of anomalies:"
      ]
    },
    {
      "cell_type": "code",
      "metadata": {
        "id": "tLCuS8oL7hG2"
      },
      "source": [
        "predictions, pred_losses = predict(model, anomaly_dataset)\n",
        "sns.distplot(pred_losses, bins=50, kde=True);"
      ],
      "execution_count": null,
      "outputs": []
    },
    {
      "cell_type": "markdown",
      "metadata": {
        "id": "EkgGXs4E06so"
      },
      "source": [
        "Finally, we can count the number of examples above the threshold (considered as anomalies):"
      ]
    },
    {
      "cell_type": "code",
      "metadata": {
        "id": "_NEUmDoM8M6q"
      },
      "source": [
        "correct = sum(l > THRESHOLD for l in pred_losses)\n",
        "print(f'Correct anomaly predictions: {correct}/{len(anomaly_dataset)}')"
      ],
      "execution_count": null,
      "outputs": []
    },
    {
      "cell_type": "markdown",
      "metadata": {
        "id": "v0PfwvTZ23_s"
      },
      "source": [
        "We have very good results. In the real world, you can tweak the threshold depending on what kind of errors you want to tolerate. In this case, you might want to have more false positives (normal heartbeats considered as anomalies) than false negatives (anomalies considered as normal)."
      ]
    },
    {
      "cell_type": "markdown",
      "metadata": {
        "id": "KrW0seHZ72Mu"
      },
      "source": [
        "#### Looking at Examples\n",
        "\n",
        "We can overlay the real and reconstructed Time Series values to see how close they are. We'll do it for some normal and anomaly cases:"
      ]
    },
    {
      "cell_type": "code",
      "metadata": {
        "id": "gBRWRk6WWdNC"
      },
      "source": [
        "def plot_prediction(data, model, title, ax):\n",
        "  predictions, pred_losses = predict(model, [data])\n",
        "\n",
        "  ax.plot(data, label='true')\n",
        "  ax.plot(predictions[0], label='reconstructed')\n",
        "  ax.set_title(f'{title} (loss: {np.around(pred_losses[0], 2)})')\n",
        "  ax.legend()"
      ],
      "execution_count": null,
      "outputs": []
    },
    {
      "cell_type": "code",
      "metadata": {
        "id": "ZnN1K63BYomX"
      },
      "source": [
        "fig, axs = plt.subplots(\n",
        "  nrows=2,\n",
        "  ncols=6,\n",
        "  sharey=True,\n",
        "  sharex=True,\n",
        "  figsize=(22, 8)\n",
        ")\n",
        "\n",
        "for i, data in enumerate(test_normal_dataset[:6]):\n",
        "  plot_prediction(data, model, title='Normal', ax=axs[0, i])\n",
        "\n",
        "for i, data in enumerate(test_anomaly_dataset[:6]):\n",
        "  plot_prediction(data, model, title='Anomaly', ax=axs[1, i])\n",
        "\n",
        "fig.tight_layout();"
      ],
      "execution_count": null,
      "outputs": []
    },
    {
      "cell_type": "markdown",
      "metadata": {
        "id": "dC1-69KD2lQ0"
      },
      "source": [
        "## Summary\n",
        "\n",
        "In this tutorial, you learned how to create an LSTM Autoencoder with PyTorch and use it to detect heartbeat anomalies in ECG data.\n",
        "\n",
        "- [Read the tutorial](https://www.curiousily.com/posts/time-series-anomaly-detection-using-lstm-autoencoder-with-pytorch-in-python/)\n",
        "- [Run the notebook in your browser (Google Colab)](https://colab.research.google.com/drive/1_J2MrBSvsJfOcVmYAN2-WSp36BtsFZCa)\n",
        "- [Read the Getting Things Done with Pytorch book](https://github.com/curiousily/Getting-Things-Done-with-Pytorch)\n",
        "\n",
        "You learned how to:\n",
        "\n",
        "- Prepare a dataset for Anomaly Detection from Time Series Data\n",
        "- Build an LSTM Autoencoder with PyTorch\n",
        "- Train and evaluate your model\n",
        "- Choose a threshold for anomaly detection\n",
        "- Classify unseen examples as normal or anomaly\n",
        "\n",
        "While our Time Series data is univariate (we have only 1 feature), the code should work for multivariate datasets (multiple features) with little or no modification. Feel free to try it!"
      ]
    },
    {
      "cell_type": "markdown",
      "metadata": {
        "id": "9icnPwTOW9RF"
      },
      "source": [
        "## References\n",
        "\n",
        "- [Sequitur - Recurrent Autoencoder (RAE)](https://github.com/shobrook/sequitur)\n",
        "- [Towards Never-Ending Learning from Time Series Streams](https://www.cs.ucr.edu/~eamonn/neverending.pdf)\n",
        "- [LSTM Autoencoder for Anomaly Detection](https://towardsdatascience.com/lstm-autoencoder-for-anomaly-detection-e1f4f2ee7ccf)"
      ]
    }
  ]
}