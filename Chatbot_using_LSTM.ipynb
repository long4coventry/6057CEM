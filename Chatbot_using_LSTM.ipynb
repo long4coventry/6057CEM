{
  "nbformat": 4,
  "nbformat_minor": 0,
  "metadata": {
    "colab": {
      "name": "Chatbot_using_LSTM.ipynb",
      "provenance": []
    },
    "kernelspec": {
      "name": "python3",
      "display_name": "Python 3"
    }
  },
  "cells": [
    {
      "cell_type": "markdown",
      "metadata": {
        "id": "6xoKYBBO6xaV"
      },
      "source": [
        "# **Chatbot using Seq2Seq LSTM models**"
      ]
    },
    {
      "cell_type": "markdown",
      "metadata": {
        "id": "2SOmE99B7Is0"
      },
      "source": [
        "This project is to create conversational chatbot using Sequence to sequence LSTM models. \n",
        "Sequence to sequence learning is about training models to convert from one domain to sequences another domain. "
      ]
    },
    {
      "cell_type": "markdown",
      "metadata": {
        "id": "mVuZTAV08qWY"
      },
      "source": [
        "# Step 1: Import all the packages "
      ]
    },
    {
      "cell_type": "code",
      "metadata": {
        "id": "U0mJXRse83hp"
      },
      "source": [
        "import numpy as np \n",
        "import tensorflow as tf\n",
        "import pickle\n",
        "from tensorflow.keras import layers, activations, models, preprocessing"
      ],
      "execution_count": 1,
      "outputs": []
    },
    {
      "cell_type": "markdown",
      "metadata": {
        "id": "aL0Rz6JZ9eLW"
      },
      "source": [
        "# Step 2: Download all the data from kaggle"
      ]
    },
    {
      "cell_type": "code",
      "metadata": {
        "id": "79eY9jkA9lnq",
        "colab": {
          "base_uri": "https://localhost:8080/"
        },
        "outputId": "606c526b-9c08-433a-a6b1-3c89e5f0e1c3"
      },
      "source": [
        "!pip install kaggle "
      ],
      "execution_count": 2,
      "outputs": [
        {
          "output_type": "stream",
          "name": "stdout",
          "text": [
            "Looking in indexes: https://pypi.org/simple, https://us-python.pkg.dev/colab-wheels/public/simple/\n",
            "Requirement already satisfied: kaggle in /usr/local/lib/python3.9/dist-packages (1.5.13)\n",
            "Requirement already satisfied: certifi in /usr/local/lib/python3.9/dist-packages (from kaggle) (2022.12.7)\n",
            "Requirement already satisfied: python-dateutil in /usr/local/lib/python3.9/dist-packages (from kaggle) (2.8.2)\n",
            "Requirement already satisfied: python-slugify in /usr/local/lib/python3.9/dist-packages (from kaggle) (8.0.1)\n",
            "Requirement already satisfied: urllib3 in /usr/local/lib/python3.9/dist-packages (from kaggle) (1.26.14)\n",
            "Requirement already satisfied: requests in /usr/local/lib/python3.9/dist-packages (from kaggle) (2.25.1)\n",
            "Requirement already satisfied: tqdm in /usr/local/lib/python3.9/dist-packages (from kaggle) (4.65.0)\n",
            "Requirement already satisfied: six>=1.10 in /usr/local/lib/python3.9/dist-packages (from kaggle) (1.15.0)\n",
            "Requirement already satisfied: text-unidecode>=1.3 in /usr/local/lib/python3.9/dist-packages (from python-slugify->kaggle) (1.3)\n",
            "Requirement already satisfied: chardet<5,>=3.0.2 in /usr/local/lib/python3.9/dist-packages (from requests->kaggle) (4.0.0)\n",
            "Requirement already satisfied: idna<3,>=2.5 in /usr/local/lib/python3.9/dist-packages (from requests->kaggle) (2.10)\n"
          ]
        }
      ]
    },
    {
      "cell_type": "code",
      "metadata": {
        "id": "6cU-sP689zyx",
        "colab": {
          "base_uri": "https://localhost:8080/",
          "height": 90
        },
        "outputId": "f80eca4a-218f-420b-fdf4-2da9e32512b8"
      },
      "source": [
        "from google.colab import files\n",
        "files.upload()"
      ],
      "execution_count": 7,
      "outputs": [
        {
          "output_type": "display_data",
          "data": {
            "text/plain": [
              "<IPython.core.display.HTML object>"
            ],
            "text/html": [
              "\n",
              "     <input type=\"file\" id=\"files-f220b6d8-c09b-4a78-9f1c-05fa6d6e0d2d\" name=\"files[]\" multiple disabled\n",
              "        style=\"border:none\" />\n",
              "     <output id=\"result-f220b6d8-c09b-4a78-9f1c-05fa6d6e0d2d\">\n",
              "      Upload widget is only available when the cell has been executed in the\n",
              "      current browser session. Please rerun this cell to enable.\n",
              "      </output>\n",
              "      <script>// Copyright 2017 Google LLC\n",
              "//\n",
              "// Licensed under the Apache License, Version 2.0 (the \"License\");\n",
              "// you may not use this file except in compliance with the License.\n",
              "// You may obtain a copy of the License at\n",
              "//\n",
              "//      http://www.apache.org/licenses/LICENSE-2.0\n",
              "//\n",
              "// Unless required by applicable law or agreed to in writing, software\n",
              "// distributed under the License is distributed on an \"AS IS\" BASIS,\n",
              "// WITHOUT WARRANTIES OR CONDITIONS OF ANY KIND, either express or implied.\n",
              "// See the License for the specific language governing permissions and\n",
              "// limitations under the License.\n",
              "\n",
              "/**\n",
              " * @fileoverview Helpers for google.colab Python module.\n",
              " */\n",
              "(function(scope) {\n",
              "function span(text, styleAttributes = {}) {\n",
              "  const element = document.createElement('span');\n",
              "  element.textContent = text;\n",
              "  for (const key of Object.keys(styleAttributes)) {\n",
              "    element.style[key] = styleAttributes[key];\n",
              "  }\n",
              "  return element;\n",
              "}\n",
              "\n",
              "// Max number of bytes which will be uploaded at a time.\n",
              "const MAX_PAYLOAD_SIZE = 100 * 1024;\n",
              "\n",
              "function _uploadFiles(inputId, outputId) {\n",
              "  const steps = uploadFilesStep(inputId, outputId);\n",
              "  const outputElement = document.getElementById(outputId);\n",
              "  // Cache steps on the outputElement to make it available for the next call\n",
              "  // to uploadFilesContinue from Python.\n",
              "  outputElement.steps = steps;\n",
              "\n",
              "  return _uploadFilesContinue(outputId);\n",
              "}\n",
              "\n",
              "// This is roughly an async generator (not supported in the browser yet),\n",
              "// where there are multiple asynchronous steps and the Python side is going\n",
              "// to poll for completion of each step.\n",
              "// This uses a Promise to block the python side on completion of each step,\n",
              "// then passes the result of the previous step as the input to the next step.\n",
              "function _uploadFilesContinue(outputId) {\n",
              "  const outputElement = document.getElementById(outputId);\n",
              "  const steps = outputElement.steps;\n",
              "\n",
              "  const next = steps.next(outputElement.lastPromiseValue);\n",
              "  return Promise.resolve(next.value.promise).then((value) => {\n",
              "    // Cache the last promise value to make it available to the next\n",
              "    // step of the generator.\n",
              "    outputElement.lastPromiseValue = value;\n",
              "    return next.value.response;\n",
              "  });\n",
              "}\n",
              "\n",
              "/**\n",
              " * Generator function which is called between each async step of the upload\n",
              " * process.\n",
              " * @param {string} inputId Element ID of the input file picker element.\n",
              " * @param {string} outputId Element ID of the output display.\n",
              " * @return {!Iterable<!Object>} Iterable of next steps.\n",
              " */\n",
              "function* uploadFilesStep(inputId, outputId) {\n",
              "  const inputElement = document.getElementById(inputId);\n",
              "  inputElement.disabled = false;\n",
              "\n",
              "  const outputElement = document.getElementById(outputId);\n",
              "  outputElement.innerHTML = '';\n",
              "\n",
              "  const pickedPromise = new Promise((resolve) => {\n",
              "    inputElement.addEventListener('change', (e) => {\n",
              "      resolve(e.target.files);\n",
              "    });\n",
              "  });\n",
              "\n",
              "  const cancel = document.createElement('button');\n",
              "  inputElement.parentElement.appendChild(cancel);\n",
              "  cancel.textContent = 'Cancel upload';\n",
              "  const cancelPromise = new Promise((resolve) => {\n",
              "    cancel.onclick = () => {\n",
              "      resolve(null);\n",
              "    };\n",
              "  });\n",
              "\n",
              "  // Wait for the user to pick the files.\n",
              "  const files = yield {\n",
              "    promise: Promise.race([pickedPromise, cancelPromise]),\n",
              "    response: {\n",
              "      action: 'starting',\n",
              "    }\n",
              "  };\n",
              "\n",
              "  cancel.remove();\n",
              "\n",
              "  // Disable the input element since further picks are not allowed.\n",
              "  inputElement.disabled = true;\n",
              "\n",
              "  if (!files) {\n",
              "    return {\n",
              "      response: {\n",
              "        action: 'complete',\n",
              "      }\n",
              "    };\n",
              "  }\n",
              "\n",
              "  for (const file of files) {\n",
              "    const li = document.createElement('li');\n",
              "    li.append(span(file.name, {fontWeight: 'bold'}));\n",
              "    li.append(span(\n",
              "        `(${file.type || 'n/a'}) - ${file.size} bytes, ` +\n",
              "        `last modified: ${\n",
              "            file.lastModifiedDate ? file.lastModifiedDate.toLocaleDateString() :\n",
              "                                    'n/a'} - `));\n",
              "    const percent = span('0% done');\n",
              "    li.appendChild(percent);\n",
              "\n",
              "    outputElement.appendChild(li);\n",
              "\n",
              "    const fileDataPromise = new Promise((resolve) => {\n",
              "      const reader = new FileReader();\n",
              "      reader.onload = (e) => {\n",
              "        resolve(e.target.result);\n",
              "      };\n",
              "      reader.readAsArrayBuffer(file);\n",
              "    });\n",
              "    // Wait for the data to be ready.\n",
              "    let fileData = yield {\n",
              "      promise: fileDataPromise,\n",
              "      response: {\n",
              "        action: 'continue',\n",
              "      }\n",
              "    };\n",
              "\n",
              "    // Use a chunked sending to avoid message size limits. See b/62115660.\n",
              "    let position = 0;\n",
              "    do {\n",
              "      const length = Math.min(fileData.byteLength - position, MAX_PAYLOAD_SIZE);\n",
              "      const chunk = new Uint8Array(fileData, position, length);\n",
              "      position += length;\n",
              "\n",
              "      const base64 = btoa(String.fromCharCode.apply(null, chunk));\n",
              "      yield {\n",
              "        response: {\n",
              "          action: 'append',\n",
              "          file: file.name,\n",
              "          data: base64,\n",
              "        },\n",
              "      };\n",
              "\n",
              "      let percentDone = fileData.byteLength === 0 ?\n",
              "          100 :\n",
              "          Math.round((position / fileData.byteLength) * 100);\n",
              "      percent.textContent = `${percentDone}% done`;\n",
              "\n",
              "    } while (position < fileData.byteLength);\n",
              "  }\n",
              "\n",
              "  // All done.\n",
              "  yield {\n",
              "    response: {\n",
              "      action: 'complete',\n",
              "    }\n",
              "  };\n",
              "}\n",
              "\n",
              "scope.google = scope.google || {};\n",
              "scope.google.colab = scope.google.colab || {};\n",
              "scope.google.colab._files = {\n",
              "  _uploadFiles,\n",
              "  _uploadFilesContinue,\n",
              "};\n",
              "})(self);\n",
              "</script> "
            ]
          },
          "metadata": {}
        },
        {
          "output_type": "stream",
          "name": "stdout",
          "text": [
            "Saving kaggle.json to kaggle.json\n"
          ]
        },
        {
          "output_type": "execute_result",
          "data": {
            "text/plain": [
              "{'kaggle.json': b'{\"username\":\"longchen1\",\"key\":\"c605d570a5917b81113bd5fe216abba8\"}'}"
            ]
          },
          "metadata": {},
          "execution_count": 7
        }
      ]
    },
    {
      "cell_type": "code",
      "metadata": {
        "id": "raW7lVdQ9z7k"
      },
      "source": [
        "!mkdir -p ~/.kaggle"
      ],
      "execution_count": 8,
      "outputs": []
    },
    {
      "cell_type": "code",
      "metadata": {
        "id": "Adp0zjFP90Bl"
      },
      "source": [
        "!cp kaggle.json ~/.kaggle/"
      ],
      "execution_count": 9,
      "outputs": []
    },
    {
      "cell_type": "code",
      "metadata": {
        "id": "mPpi-Suj9z4s",
        "colab": {
          "base_uri": "https://localhost:8080/"
        },
        "outputId": "8ce688fc-6768-4faa-c458-f729befae253"
      },
      "source": [
        "!ls ~/.kaggle"
      ],
      "execution_count": 10,
      "outputs": [
        {
          "output_type": "stream",
          "name": "stdout",
          "text": [
            "kaggle.json\n"
          ]
        }
      ]
    },
    {
      "cell_type": "code",
      "metadata": {
        "id": "1gocz2gG9zsC"
      },
      "source": [
        "!chmod 600 /root/.kaggle/kaggle.json"
      ],
      "execution_count": 11,
      "outputs": []
    },
    {
      "cell_type": "code",
      "metadata": {
        "id": "Rq0zmSYy-S0R",
        "colab": {
          "base_uri": "https://localhost:8080/"
        },
        "outputId": "8923ce8f-5425-4a7e-f9da-22db8560abf6"
      },
      "source": [
        "!kaggle datasets download -d kausr25/chatterbotenglish"
      ],
      "execution_count": 12,
      "outputs": [
        {
          "output_type": "stream",
          "name": "stdout",
          "text": [
            "Downloading chatterbotenglish.zip to /content\n",
            "\r  0% 0.00/23.2k [00:00<?, ?B/s]\n",
            "\r100% 23.2k/23.2k [00:00<00:00, 20.8MB/s]\n"
          ]
        }
      ]
    },
    {
      "cell_type": "code",
      "metadata": {
        "id": "8yk6kTtM-bQ0",
        "colab": {
          "base_uri": "https://localhost:8080/"
        },
        "outputId": "26a1c557-e858-4201-8530-1fcef185cacd"
      },
      "source": [
        "!unzip /content/chatterbotenglish.zip"
      ],
      "execution_count": 13,
      "outputs": [
        {
          "output_type": "stream",
          "name": "stdout",
          "text": [
            "Archive:  /content/chatterbotenglish.zip\n",
            "  inflating: ai.yml                  \n",
            "  inflating: botprofile.yml          \n",
            "  inflating: computers.yml           \n",
            "  inflating: emotion.yml             \n",
            "  inflating: food.yml                \n",
            "  inflating: gossip.yml              \n",
            "  inflating: greetings.yml           \n",
            "  inflating: health.yml              \n",
            "  inflating: history.yml             \n",
            "  inflating: humor.yml               \n",
            "  inflating: literature.yml          \n",
            "  inflating: money.yml               \n",
            "  inflating: movies.yml              \n",
            "  inflating: politics.yml            \n",
            "  inflating: psychology.yml          \n",
            "  inflating: science.yml             \n",
            "  inflating: sports.yml              \n",
            "  inflating: trivia.yml              \n"
          ]
        }
      ]
    },
    {
      "cell_type": "code",
      "metadata": {
        "id": "0PMKhVnUHwGi",
        "colab": {
          "base_uri": "https://localhost:8080/"
        },
        "outputId": "d10e8975-abc1-4a80-982a-86648aef7631"
      },
      "source": [
        "!wget https://github.com/shubham0204/Dataset_Archives/blob/master/chatbot_nlp.zip?raw=true -O chatbot_nlp.zip\n",
        "!unzip chatbot_nlp.zip"
      ],
      "execution_count": 14,
      "outputs": [
        {
          "output_type": "stream",
          "name": "stdout",
          "text": [
            "--2023-03-13 11:59:01--  https://github.com/shubham0204/Dataset_Archives/blob/master/chatbot_nlp.zip?raw=true\n",
            "Resolving github.com (github.com)... 140.82.112.4\n",
            "Connecting to github.com (github.com)|140.82.112.4|:443... connected.\n",
            "HTTP request sent, awaiting response... 302 Found\n",
            "Location: https://github.com/shubham0204/Dataset_Archives/raw/master/chatbot_nlp.zip [following]\n",
            "--2023-03-13 11:59:01--  https://github.com/shubham0204/Dataset_Archives/raw/master/chatbot_nlp.zip\n",
            "Reusing existing connection to github.com:443.\n",
            "HTTP request sent, awaiting response... 302 Found\n",
            "Location: https://raw.githubusercontent.com/shubham0204/Dataset_Archives/master/chatbot_nlp.zip [following]\n",
            "--2023-03-13 11:59:01--  https://raw.githubusercontent.com/shubham0204/Dataset_Archives/master/chatbot_nlp.zip\n",
            "Resolving raw.githubusercontent.com (raw.githubusercontent.com)... 185.199.111.133, 185.199.109.133, 185.199.108.133, ...\n",
            "Connecting to raw.githubusercontent.com (raw.githubusercontent.com)|185.199.111.133|:443... connected.\n",
            "HTTP request sent, awaiting response... 200 OK\n",
            "Length: 24292 (24K) [application/zip]\n",
            "Saving to: ‘chatbot_nlp.zip’\n",
            "\n",
            "chatbot_nlp.zip     100%[===================>]  23.72K  --.-KB/s    in 0s      \n",
            "\n",
            "2023-03-13 11:59:01 (88.4 MB/s) - ‘chatbot_nlp.zip’ saved [24292/24292]\n",
            "\n",
            "Archive:  chatbot_nlp.zip\n",
            "   creating: chatbot_nlp/\n",
            "   creating: chatbot_nlp/data/\n",
            "  inflating: chatbot_nlp/data/ai.yml  \n",
            "  inflating: chatbot_nlp/data/botprofile.yml  \n",
            "  inflating: chatbot_nlp/data/computers.yml  \n",
            "  inflating: chatbot_nlp/data/emotion.yml  \n",
            "  inflating: chatbot_nlp/data/food.yml  \n",
            "  inflating: chatbot_nlp/data/gossip.yml  \n",
            "  inflating: chatbot_nlp/data/greetings.yml  \n",
            "  inflating: chatbot_nlp/data/health.yml  \n",
            "  inflating: chatbot_nlp/data/history.yml  \n",
            "  inflating: chatbot_nlp/data/humor.yml  \n",
            "  inflating: chatbot_nlp/data/literature.yml  \n",
            "  inflating: chatbot_nlp/data/money.yml  \n",
            "  inflating: chatbot_nlp/data/movies.yml  \n",
            "  inflating: chatbot_nlp/data/politics.yml  \n",
            "  inflating: chatbot_nlp/data/psychology.yml  \n",
            "  inflating: chatbot_nlp/data/science.yml  \n",
            "  inflating: chatbot_nlp/data/sports.yml  \n",
            "  inflating: chatbot_nlp/data/trivia.yml  \n"
          ]
        }
      ]
    },
    {
      "cell_type": "markdown",
      "metadata": {
        "id": "l4kJp6uO-fQE"
      },
      "source": [
        "# Step 3: Preprocessing the data"
      ]
    },
    {
      "cell_type": "markdown",
      "metadata": {
        "id": "QEV_hSXs-7mF"
      },
      "source": [
        "### a) Reading the data from the files\n",
        "We parse each of the .yaml files.\n",
        "\n",
        "1. Concatenate two or more sentences if the answer has two or more of them.\n",
        "2. Remove unwanted data types which are produced while parsing the data.\n",
        "3. Append <START> and <END> to all the answers.\n",
        "4. Create a Tokenizer and load the whole vocabulary ( questions + answers ) into it."
      ]
    },
    {
      "cell_type": "code",
      "metadata": {
        "id": "kWYOjzOc_iQi"
      },
      "source": [
        "from tensorflow.keras import preprocessing, utils\n",
        "import os\n",
        "import yaml"
      ],
      "execution_count": 15,
      "outputs": []
    },
    {
      "cell_type": "markdown",
      "metadata": {
        "id": "qyUnopqjDjud"
      },
      "source": [
        "The dataset contains .yml files which have pairs of different questions and their answers on varied subjects like history, bot profile, science etc.\n",
        "We can easily read them as folows:"
      ]
    },
    {
      "cell_type": "code",
      "metadata": {
        "id": "RxG-s4k0CowI"
      },
      "source": [
        "dir_path = '/content/chatbot_nlp/data'\n",
        "files_list = os.listdir(dir_path + os.sep)"
      ],
      "execution_count": 16,
      "outputs": []
    },
    {
      "cell_type": "code",
      "metadata": {
        "id": "-bRvbQ00Coy5",
        "colab": {
          "base_uri": "https://localhost:8080/"
        },
        "outputId": "38d68024-0b11-4db3-9cde-0d8a99c0fb73"
      },
      "source": [
        "questions = list()\n",
        "answers = list()\n",
        "\n",
        "for filepath in files_list:\n",
        "    stream = open( dir_path + os.sep + filepath , 'rb')\n",
        "    docs = yaml.safe_load(stream)\n",
        "    conversations = docs['conversations']\n",
        "    for con in conversations:\n",
        "        if len( con ) > 2 :\n",
        "            questions.append(con[0])\n",
        "            replies = con[ 1 : ]\n",
        "            ans = ''\n",
        "            for rep in replies:\n",
        "                ans += ' ' + rep\n",
        "            answers.append( ans )\n",
        "        elif len( con )> 1:\n",
        "            questions.append(con[0])\n",
        "            answers.append(con[1])\n",
        "\n",
        "answers_with_tags = list()\n",
        "for i in range( len( answers ) ):\n",
        "    if type( answers[i] ) == str:\n",
        "        answers_with_tags.append( answers[i] )\n",
        "    else:\n",
        "        questions.pop( i )\n",
        "\n",
        "answers = list()\n",
        "for i in range( len( answers_with_tags ) ) :\n",
        "    answers.append( '<START> ' + answers_with_tags[i] + ' <END>' )\n",
        "\n",
        "tokenizer = preprocessing.text.Tokenizer()\n",
        "tokenizer.fit_on_texts( questions + answers )\n",
        "VOCAB_SIZE = len( tokenizer.word_index )+1\n",
        "print( 'VOCAB SIZE : {}'.format( VOCAB_SIZE ))"
      ],
      "execution_count": 17,
      "outputs": [
        {
          "output_type": "stream",
          "name": "stdout",
          "text": [
            "VOCAB SIZE : 1894\n"
          ]
        }
      ]
    },
    {
      "cell_type": "markdown",
      "metadata": {
        "id": "WMPqb8LxIeGI"
      },
      "source": [
        "### b) Preparing data for Seq2Seq model\n",
        "\n",
        "This model requires 3 arrays encoder_input_data, decoder_input_data and decoder_output_data.\n",
        "\n",
        "For encoder_input_data:\n",
        "Tokensize the Questions and Pad them to their maximum Length.\n",
        "\n",
        "For decoder_input_data:\n",
        "Tokensize the Answers and Pad them to their maximum Length.\n",
        "\n",
        "For decoder_output_data:\n",
        "Tokensize the Answers and Remove the 1st element from all the tokenized_answers. This is the <START> element which was added earlier."
      ]
    },
    {
      "cell_type": "code",
      "metadata": {
        "id": "oEfAPL4HCo1t"
      },
      "source": [
        "from gensim.models import Word2Vec\n",
        "import re"
      ],
      "execution_count": 18,
      "outputs": []
    },
    {
      "cell_type": "code",
      "metadata": {
        "id": "QqYoDsbSCo4f"
      },
      "source": [
        "vocab = []\n",
        "for word in tokenizer.word_index:\n",
        "  vocab.append(word)\n",
        "\n",
        "def tokenize(sentences):\n",
        "  tokens_list = []\n",
        "  vocabulary = []\n",
        "  for sentence in sentences:\n",
        "    sentence = sentence.lower()\n",
        "    sentence = re.sub('[^a-zA-Z]', ' ', sentence)\n",
        "    tokens = sentence.split()\n",
        "    vocabulary += tokens\n",
        "    tokens_list.append(tokens)\n",
        "  return tokens_list, vocabulary"
      ],
      "execution_count": 19,
      "outputs": []
    },
    {
      "cell_type": "code",
      "metadata": {
        "id": "9vKhieIwCo7J",
        "colab": {
          "base_uri": "https://localhost:8080/"
        },
        "outputId": "2a682a44-c754-49ca-c7bb-03aab2af8a0a"
      },
      "source": [
        "#encoder_input_data\n",
        "tokenized_questions = tokenizer.texts_to_sequences( questions )\n",
        "maxlen_questions = max( [len(x) for x in tokenized_questions ] )\n",
        "padded_questions = preprocessing.sequence.pad_sequences( tokenized_questions, maxlen = maxlen_questions, padding = 'post')\n",
        "encoder_input_data = np.array(padded_questions)\n",
        "print(encoder_input_data.shape, maxlen_questions)"
      ],
      "execution_count": 20,
      "outputs": [
        {
          "output_type": "stream",
          "name": "stdout",
          "text": [
            "(564, 22) 22\n"
          ]
        }
      ]
    },
    {
      "cell_type": "code",
      "metadata": {
        "id": "AJo7WPjLCo-q",
        "colab": {
          "base_uri": "https://localhost:8080/"
        },
        "outputId": "2ecb7e16-6826-4b1a-d6dc-2b47bbb2c1cd"
      },
      "source": [
        "# decoder_input_data\n",
        "tokenized_answers = tokenizer.texts_to_sequences( answers )\n",
        "maxlen_answers = max( [ len(x) for x in tokenized_answers ] )\n",
        "padded_answers = preprocessing.sequence.pad_sequences( tokenized_answers , maxlen=maxlen_answers , padding='post' )\n",
        "decoder_input_data = np.array( padded_answers )\n",
        "print( decoder_input_data.shape , maxlen_answers )"
      ],
      "execution_count": 21,
      "outputs": [
        {
          "output_type": "stream",
          "name": "stdout",
          "text": [
            "(564, 74) 74\n"
          ]
        }
      ]
    },
    {
      "cell_type": "code",
      "metadata": {
        "id": "ccY0wWdRCpCa",
        "colab": {
          "base_uri": "https://localhost:8080/"
        },
        "outputId": "02489c20-daf6-44f8-ce2f-1a15f120a190"
      },
      "source": [
        "# decoder_output_data\n",
        "tokenized_answers = tokenizer.texts_to_sequences( answers )\n",
        "for i in range(len(tokenized_answers)) :\n",
        "    tokenized_answers[i] = tokenized_answers[i][1:]\n",
        "padded_answers = preprocessing.sequence.pad_sequences( tokenized_answers , maxlen=maxlen_answers , padding='post' )\n",
        "onehot_answers = utils.to_categorical( padded_answers , VOCAB_SIZE )\n",
        "decoder_output_data = np.array( onehot_answers )\n",
        "print( decoder_output_data.shape )"
      ],
      "execution_count": 22,
      "outputs": [
        {
          "output_type": "stream",
          "name": "stdout",
          "text": [
            "(564, 74, 1894)\n"
          ]
        }
      ]
    },
    {
      "cell_type": "markdown",
      "metadata": {
        "id": "-D53pyucPCnk"
      },
      "source": [
        "# Step 4: Defining Encoder Decoder Model\n",
        "\n",
        "\n",
        "\n"
      ]
    },
    {
      "cell_type": "code",
      "metadata": {
        "id": "W3YjCFDwPRVN",
        "colab": {
          "base_uri": "https://localhost:8080/"
        },
        "outputId": "d9fcb2bc-e9cf-4b62-bbef-5340de850d64"
      },
      "source": [
        "encoder_inputs = tf.keras.layers.Input(shape=( maxlen_questions , ))\n",
        "encoder_embedding = tf.keras.layers.Embedding( VOCAB_SIZE, 200 , mask_zero=True ) (encoder_inputs)\n",
        "encoder_outputs , state_h , state_c = tf.keras.layers.LSTM( 200 , return_state=True )( encoder_embedding )\n",
        "encoder_states = [ state_h , state_c ]\n",
        "\n",
        "decoder_inputs = tf.keras.layers.Input(shape=( maxlen_answers ,  ))\n",
        "decoder_embedding = tf.keras.layers.Embedding( VOCAB_SIZE, 200 , mask_zero=True) (decoder_inputs)\n",
        "decoder_lstm = tf.keras.layers.LSTM( 200 , return_state=True , return_sequences=True )\n",
        "decoder_outputs , _ , _ = decoder_lstm ( decoder_embedding , initial_state=encoder_states )\n",
        "decoder_dense = tf.keras.layers.Dense( VOCAB_SIZE , activation=tf.keras.activations.softmax ) \n",
        "output = decoder_dense ( decoder_outputs )\n",
        "\n",
        "model = tf.keras.models.Model([encoder_inputs, decoder_inputs], output )\n",
        "model.compile(optimizer=tf.keras.optimizers.RMSprop(), loss='categorical_crossentropy')\n",
        "\n",
        "model.summary()"
      ],
      "execution_count": 23,
      "outputs": [
        {
          "output_type": "stream",
          "name": "stdout",
          "text": [
            "Model: \"model\"\n",
            "__________________________________________________________________________________________________\n",
            " Layer (type)                   Output Shape         Param #     Connected to                     \n",
            "==================================================================================================\n",
            " input_1 (InputLayer)           [(None, 22)]         0           []                               \n",
            "                                                                                                  \n",
            " input_2 (InputLayer)           [(None, 74)]         0           []                               \n",
            "                                                                                                  \n",
            " embedding (Embedding)          (None, 22, 200)      378800      ['input_1[0][0]']                \n",
            "                                                                                                  \n",
            " embedding_1 (Embedding)        (None, 74, 200)      378800      ['input_2[0][0]']                \n",
            "                                                                                                  \n",
            " lstm (LSTM)                    [(None, 200),        320800      ['embedding[0][0]']              \n",
            "                                 (None, 200),                                                     \n",
            "                                 (None, 200)]                                                     \n",
            "                                                                                                  \n",
            " lstm_1 (LSTM)                  [(None, 74, 200),    320800      ['embedding_1[0][0]',            \n",
            "                                 (None, 200),                     'lstm[0][1]',                   \n",
            "                                 (None, 200)]                     'lstm[0][2]']                   \n",
            "                                                                                                  \n",
            " dense (Dense)                  (None, 74, 1894)     380694      ['lstm_1[0][0]']                 \n",
            "                                                                                                  \n",
            "==================================================================================================\n",
            "Total params: 1,779,894\n",
            "Trainable params: 1,779,894\n",
            "Non-trainable params: 0\n",
            "__________________________________________________________________________________________________\n"
          ]
        }
      ]
    },
    {
      "cell_type": "markdown",
      "metadata": {
        "id": "wVfSormAPb3w"
      },
      "source": [
        "# Step 5: Training the Model\n",
        "\n",
        "We train the model for a number of epochs with RMSprop optimizer and categorical_crossentropy loss function."
      ]
    },
    {
      "cell_type": "code",
      "metadata": {
        "id": "OHlqQq64PYTH",
        "colab": {
          "base_uri": "https://localhost:8080/"
        },
        "outputId": "55cac69f-7f32-4fed-92be-51d432397076"
      },
      "source": [
        "model.fit([encoder_input_data , decoder_input_data], decoder_output_data, batch_size=50, epochs=150 ) \n",
        "model.save( 'model.h5' )"
      ],
      "execution_count": null,
      "outputs": [
        {
          "output_type": "stream",
          "name": "stdout",
          "text": [
            "Epoch 1/150\n",
            "12/12 [==============================] - 18s 892ms/step - loss: 7.5256\n",
            "Epoch 2/150\n",
            "12/12 [==============================] - 8s 644ms/step - loss: 6.7401\n",
            "Epoch 3/150\n",
            "12/12 [==============================] - 6s 516ms/step - loss: 5.9768\n",
            "Epoch 4/150\n",
            "12/12 [==============================] - 7s 613ms/step - loss: 5.8208\n",
            "Epoch 5/150\n",
            "12/12 [==============================] - 6s 511ms/step - loss: 5.7702\n",
            "Epoch 6/150\n",
            "12/12 [==============================] - 7s 612ms/step - loss: 5.7422\n",
            "Epoch 7/150\n",
            "12/12 [==============================] - 6s 520ms/step - loss: 5.7166\n",
            "Epoch 8/150\n",
            "12/12 [==============================] - 7s 601ms/step - loss: 5.6805\n",
            "Epoch 9/150\n",
            "12/12 [==============================] - 7s 572ms/step - loss: 5.6644\n",
            "Epoch 10/150\n",
            "12/12 [==============================] - 7s 529ms/step - loss: 5.6465\n",
            "Epoch 11/150\n",
            "12/12 [==============================] - 7s 615ms/step - loss: 5.6040\n",
            "Epoch 12/150\n",
            "12/12 [==============================] - 6s 521ms/step - loss: 5.5685\n",
            "Epoch 13/150\n",
            "12/12 [==============================] - 7s 613ms/step - loss: 5.5382\n",
            "Epoch 14/150\n",
            "12/12 [==============================] - 6s 513ms/step - loss: 5.4724\n",
            "Epoch 15/150\n",
            "12/12 [==============================] - 7s 615ms/step - loss: 5.4416\n",
            "Epoch 16/150\n",
            "12/12 [==============================] - 6s 522ms/step - loss: 5.4006\n",
            "Epoch 17/150\n",
            "12/12 [==============================] - 7s 618ms/step - loss: 5.3695\n",
            "Epoch 18/150\n",
            "12/12 [==============================] - 7s 586ms/step - loss: 5.3356\n",
            "Epoch 19/150\n",
            "12/12 [==============================] - 10s 756ms/step - loss: 5.3010\n",
            "Epoch 20/150\n",
            "12/12 [==============================] - 7s 613ms/step - loss: 5.2942\n",
            "Epoch 21/150\n",
            "12/12 [==============================] - 7s 527ms/step - loss: 5.2742\n",
            "Epoch 22/150\n",
            "12/12 [==============================] - 7s 619ms/step - loss: 5.2510\n",
            "Epoch 23/150\n",
            "12/12 [==============================] - 6s 517ms/step - loss: 5.2360\n",
            "Epoch 24/150\n",
            "12/12 [==============================] - 7s 623ms/step - loss: 5.2099\n",
            "Epoch 25/150\n",
            "12/12 [==============================] - 11s 987ms/step - loss: 5.1973\n",
            "Epoch 26/150\n",
            "12/12 [==============================] - 8s 622ms/step - loss: 5.1736\n",
            "Epoch 27/150\n",
            "12/12 [==============================] - 7s 607ms/step - loss: 5.1547\n",
            "Epoch 28/150\n",
            "12/12 [==============================] - 6s 516ms/step - loss: 5.1368\n",
            "Epoch 29/150\n",
            "12/12 [==============================] - 7s 606ms/step - loss: 5.1052\n",
            "Epoch 30/150\n",
            "12/12 [==============================] - 6s 514ms/step - loss: 5.0785\n",
            "Epoch 31/150\n",
            "12/12 [==============================] - 7s 591ms/step - loss: 5.0744\n",
            "Epoch 32/150\n",
            "12/12 [==============================] - 7s 578ms/step - loss: 5.0532\n",
            "Epoch 33/150\n",
            "12/12 [==============================] - 7s 526ms/step - loss: 5.0252\n",
            "Epoch 34/150\n",
            "12/12 [==============================] - 7s 615ms/step - loss: 5.0037\n",
            "Epoch 35/150\n",
            "12/12 [==============================] - 6s 524ms/step - loss: 4.9914\n",
            "Epoch 36/150\n",
            "12/12 [==============================] - 7s 615ms/step - loss: 4.9690\n",
            "Epoch 37/150\n",
            "12/12 [==============================] - 6s 522ms/step - loss: 4.9497\n",
            "Epoch 38/150\n",
            "12/12 [==============================] - 7s 619ms/step - loss: 4.9202\n",
            "Epoch 39/150\n",
            "12/12 [==============================] - 7s 584ms/step - loss: 4.9089\n",
            "Epoch 40/150\n",
            "12/12 [==============================] - 7s 610ms/step - loss: 4.9013\n",
            "Epoch 41/150\n",
            "12/12 [==============================] - 7s 571ms/step - loss: 4.8670\n",
            "Epoch 42/150\n",
            "12/12 [==============================] - 7s 542ms/step - loss: 4.8575\n",
            "Epoch 43/150\n",
            "12/12 [==============================] - 7s 617ms/step - loss: 4.8396\n",
            "Epoch 44/150\n",
            "12/12 [==============================] - 6s 527ms/step - loss: 4.8100\n",
            "Epoch 45/150\n",
            "12/12 [==============================] - 7s 613ms/step - loss: 4.7918\n",
            "Epoch 46/150\n",
            "12/12 [==============================] - 6s 517ms/step - loss: 4.7802\n",
            "Epoch 47/150\n",
            "12/12 [==============================] - 7s 622ms/step - loss: 4.7593\n",
            "Epoch 48/150\n",
            "12/12 [==============================] - 6s 522ms/step - loss: 4.7269\n",
            "Epoch 49/150\n",
            "12/12 [==============================] - 7s 627ms/step - loss: 4.7298\n",
            "Epoch 50/150\n",
            "12/12 [==============================] - 6s 530ms/step - loss: 4.7140\n",
            "Epoch 51/150\n",
            "12/12 [==============================] - 7s 595ms/step - loss: 4.6838\n",
            "Epoch 52/150\n",
            "12/12 [==============================] - 7s 602ms/step - loss: 4.6773\n",
            "Epoch 53/150\n",
            "12/12 [==============================] - 7s 523ms/step - loss: 4.6524\n",
            "Epoch 54/150\n",
            "12/12 [==============================] - 7s 629ms/step - loss: 4.6229\n",
            "Epoch 55/150\n",
            "12/12 [==============================] - 6s 514ms/step - loss: 4.6163\n",
            "Epoch 56/150\n",
            "12/12 [==============================] - 7s 620ms/step - loss: 4.5935\n",
            "Epoch 57/150\n",
            "12/12 [==============================] - 6s 524ms/step - loss: 4.5825\n",
            "Epoch 58/150\n",
            "12/12 [==============================] - 7s 626ms/step - loss: 4.5576\n",
            "Epoch 59/150\n",
            "12/12 [==============================] - 6s 524ms/step - loss: 4.5433\n",
            "Epoch 60/150\n",
            "12/12 [==============================] - 7s 620ms/step - loss: 4.5141\n",
            "Epoch 61/150\n",
            "12/12 [==============================] - 6s 537ms/step - loss: 4.5104\n",
            "Epoch 62/150\n",
            "12/12 [==============================] - 7s 568ms/step - loss: 4.4868\n",
            "Epoch 63/150\n",
            "12/12 [==============================] - 7s 606ms/step - loss: 4.4739\n",
            "Epoch 64/150\n",
            "12/12 [==============================] - 6s 523ms/step - loss: 4.4492\n",
            "Epoch 65/150\n",
            "12/12 [==============================] - 7s 625ms/step - loss: 4.4254\n",
            "Epoch 66/150\n",
            "12/12 [==============================] - 6s 524ms/step - loss: 4.4040\n",
            "Epoch 67/150\n",
            "12/12 [==============================] - 7s 621ms/step - loss: 4.3901\n",
            "Epoch 68/150\n",
            "12/12 [==============================] - 6s 517ms/step - loss: 4.3764\n",
            "Epoch 69/150\n",
            "12/12 [==============================] - 7s 617ms/step - loss: 4.3352\n",
            "Epoch 70/150\n",
            "12/12 [==============================] - 6s 520ms/step - loss: 4.3370\n",
            "Epoch 71/150\n",
            "12/12 [==============================] - 7s 627ms/step - loss: 4.3159\n",
            "Epoch 72/150\n",
            "12/12 [==============================] - 7s 555ms/step - loss: 4.2899\n",
            "Epoch 73/150\n",
            "12/12 [==============================] - 7s 556ms/step - loss: 4.2648\n",
            "Epoch 74/150\n",
            "12/12 [==============================] - 7s 625ms/step - loss: 4.2641\n",
            "Epoch 75/150\n",
            "12/12 [==============================] - 6s 530ms/step - loss: 4.2314\n",
            "Epoch 76/150\n",
            "12/12 [==============================] - 7s 623ms/step - loss: 4.2149\n",
            "Epoch 77/150\n",
            "12/12 [==============================] - 6s 528ms/step - loss: 4.1920\n",
            "Epoch 78/150\n",
            "12/12 [==============================] - 7s 623ms/step - loss: 4.1821\n",
            "Epoch 79/150\n",
            "12/12 [==============================] - 6s 522ms/step - loss: 4.1667\n",
            "Epoch 80/150\n",
            "12/12 [==============================] - 7s 622ms/step - loss: 4.1408\n",
            "Epoch 81/150\n",
            "12/12 [==============================] - 6s 510ms/step - loss: 4.1145\n",
            "Epoch 82/150\n",
            "12/12 [==============================] - 7s 606ms/step - loss: 4.0988\n",
            "Epoch 83/150\n",
            "12/12 [==============================] - 7s 556ms/step - loss: 4.0872\n",
            "Epoch 84/150\n",
            "12/12 [==============================] - 7s 548ms/step - loss: 4.0540\n",
            "Epoch 85/150\n",
            "12/12 [==============================] - 7s 629ms/step - loss: 4.0476\n",
            "Epoch 86/150\n",
            "12/12 [==============================] - 6s 524ms/step - loss: 4.0268\n",
            "Epoch 87/150\n",
            "12/12 [==============================] - 7s 623ms/step - loss: 4.0175\n",
            "Epoch 88/150\n",
            "12/12 [==============================] - 6s 522ms/step - loss: 3.9984\n",
            "Epoch 89/150\n",
            "12/12 [==============================] - 7s 625ms/step - loss: 3.9661\n",
            "Epoch 90/150\n",
            "12/12 [==============================] - 6s 528ms/step - loss: 3.9576\n",
            "Epoch 91/150\n",
            "12/12 [==============================] - 7s 628ms/step - loss: 3.9386\n",
            "Epoch 92/150\n",
            "12/12 [==============================] - 6s 533ms/step - loss: 3.9174\n",
            "Epoch 93/150\n",
            "12/12 [==============================] - 7s 595ms/step - loss: 3.9109\n",
            "Epoch 94/150\n",
            "12/12 [==============================] - 7s 607ms/step - loss: 3.8580\n",
            "Epoch 95/150\n",
            "12/12 [==============================] - 7s 533ms/step - loss: 3.8705\n",
            "Epoch 96/150\n",
            "12/12 [==============================] - 7s 615ms/step - loss: 3.8539\n",
            "Epoch 97/150\n",
            "12/12 [==============================] - 6s 518ms/step - loss: 3.8325\n",
            "Epoch 98/150\n",
            "12/12 [==============================] - 7s 623ms/step - loss: 3.8224\n",
            "Epoch 99/150\n",
            "12/12 [==============================] - 6s 527ms/step - loss: 3.7999\n",
            "Epoch 100/150\n",
            "12/12 [==============================] - 7s 623ms/step - loss: 3.7922\n",
            "Epoch 101/150\n",
            "12/12 [==============================] - 6s 527ms/step - loss: 3.7635\n",
            "Epoch 102/150\n",
            "12/12 [==============================] - 7s 624ms/step - loss: 3.7408\n",
            "Epoch 103/150\n",
            "12/12 [==============================] - 7s 569ms/step - loss: 3.7260\n",
            "Epoch 104/150\n",
            "12/12 [==============================] - 7s 545ms/step - loss: 3.7013\n",
            "Epoch 105/150\n",
            "12/12 [==============================] - 7s 626ms/step - loss: 3.6907\n",
            "Epoch 106/150\n",
            "12/12 [==============================] - 6s 516ms/step - loss: 3.6799\n",
            "Epoch 107/150\n",
            "12/12 [==============================] - 7s 616ms/step - loss: 3.6569\n",
            "Epoch 108/150\n",
            "12/12 [==============================] - 7s 545ms/step - loss: 3.6431\n",
            "Epoch 109/150\n",
            "12/12 [==============================] - 7s 626ms/step - loss: 3.6223\n",
            "Epoch 110/150\n",
            "12/12 [==============================] - 6s 527ms/step - loss: 3.6048\n",
            "Epoch 111/150\n",
            "12/12 [==============================] - 7s 630ms/step - loss: 3.5988\n",
            "Epoch 112/150\n",
            "12/12 [==============================] - 7s 552ms/step - loss: 3.5865\n",
            "Epoch 113/150\n",
            "12/12 [==============================] - 7s 555ms/step - loss: 3.5640\n",
            "Epoch 114/150\n",
            "12/12 [==============================] - 8s 634ms/step - loss: 3.5527\n",
            "Epoch 115/150\n",
            "12/12 [==============================] - 6s 531ms/step - loss: 3.5212\n",
            "Epoch 116/150\n",
            "12/12 [==============================] - 7s 610ms/step - loss: 3.5126\n",
            "Epoch 117/150\n",
            "12/12 [==============================] - 6s 528ms/step - loss: 3.5030\n",
            "Epoch 118/150\n",
            "12/12 [==============================] - 7s 624ms/step - loss: 3.4893\n",
            "Epoch 119/150\n",
            "12/12 [==============================] - 6s 528ms/step - loss: 3.4703\n",
            "Epoch 120/150\n",
            "12/12 [==============================] - 7s 627ms/step - loss: 3.4563\n",
            "Epoch 121/150\n",
            "12/12 [==============================] - 6s 532ms/step - loss: 3.4333\n",
            "Epoch 122/150\n",
            "12/12 [==============================] - 8s 599ms/step - loss: 3.4115\n",
            "Epoch 123/150\n",
            "12/12 [==============================] - 7s 617ms/step - loss: 3.3939\n",
            "Epoch 124/150\n",
            "12/12 [==============================] - 7s 539ms/step - loss: 3.3786\n",
            "Epoch 125/150\n",
            "12/12 [==============================] - 8s 641ms/step - loss: 3.3647\n",
            "Epoch 126/150\n",
            "12/12 [==============================] - 6s 539ms/step - loss: 3.3549\n",
            "Epoch 127/150\n",
            "12/12 [==============================] - 8s 636ms/step - loss: 3.3405\n",
            "Epoch 128/150\n",
            "12/12 [==============================] - 7s 545ms/step - loss: 3.3215\n",
            "Epoch 129/150\n",
            "12/12 [==============================] - 8s 641ms/step - loss: 3.3007\n",
            "Epoch 130/150\n",
            "12/12 [==============================] - 7s 582ms/step - loss: 3.2879\n",
            "Epoch 131/150\n",
            "12/12 [==============================] - 7s 556ms/step - loss: 3.2672\n",
            "Epoch 132/150\n",
            "12/12 [==============================] - 8s 639ms/step - loss: 3.2592\n",
            "Epoch 133/150\n",
            "12/12 [==============================] - 6s 538ms/step - loss: 3.2417\n",
            "Epoch 134/150\n",
            "12/12 [==============================] - 8s 640ms/step - loss: 3.2181\n",
            "Epoch 135/150\n",
            "12/12 [==============================] - 6s 535ms/step - loss: 3.2033\n",
            "Epoch 136/150\n",
            "12/12 [==============================] - 8s 639ms/step - loss: 3.1863\n",
            "Epoch 137/150\n",
            "12/12 [==============================] - 7s 548ms/step - loss: 3.1837\n",
            "Epoch 138/150\n",
            "12/12 [==============================] - 7s 596ms/step - loss: 3.1585\n",
            "Epoch 139/150\n",
            "12/12 [==============================] - 8s 643ms/step - loss: 3.1468\n",
            "Epoch 140/150\n",
            "12/12 [==============================] - 6s 538ms/step - loss: 3.1247\n",
            "Epoch 141/150\n",
            "12/12 [==============================] - 8s 637ms/step - loss: 3.1072\n",
            "Epoch 142/150\n",
            "12/12 [==============================] - 7s 539ms/step - loss: 3.0956\n",
            "Epoch 143/150\n",
            "11/12 [==========================>...] - ETA: 0s - loss: 3.0929"
          ]
        }
      ]
    },
    {
      "cell_type": "markdown",
      "metadata": {
        "id": "F1MIy1j9aVTo"
      },
      "source": [
        "# Step 6: Defining Inference Models\n",
        "\n",
        "Encoder Inference Model: Takes questions as input and outputs LSTM states (h and c)\n",
        "\n",
        "Decoder Inference Model: Takes in 2 inputs one are the LSTM states, second are the answer input sequences. it will o/p the answers for questions which fed to the encoder model and it's state values."
      ]
    },
    {
      "cell_type": "code",
      "metadata": {
        "id": "MpLowS27cn8X"
      },
      "source": [
        "def make_inference_models():\n",
        "    \n",
        "    encoder_model = tf.keras.models.Model(encoder_inputs, encoder_states)\n",
        "    \n",
        "    decoder_state_input_h = tf.keras.layers.Input(shape=( 200 ,))\n",
        "    decoder_state_input_c = tf.keras.layers.Input(shape=( 200 ,))\n",
        "    \n",
        "    decoder_states_inputs = [decoder_state_input_h, decoder_state_input_c]\n",
        "    \n",
        "    decoder_outputs, state_h, state_c = decoder_lstm(\n",
        "        decoder_embedding , initial_state=decoder_states_inputs)\n",
        "    \n",
        "    decoder_states = [state_h, state_c]\n",
        "\n",
        "    decoder_outputs = decoder_dense(decoder_outputs)\n",
        "    \n",
        "    decoder_model = tf.keras.models.Model(\n",
        "        [decoder_inputs] + decoder_states_inputs,\n",
        "        [decoder_outputs] + decoder_states)\n",
        "    \n",
        "    return encoder_model , decoder_model"
      ],
      "execution_count": null,
      "outputs": []
    },
    {
      "cell_type": "markdown",
      "metadata": {
        "id": "EwoYVsBTeYra"
      },
      "source": [
        "# Step 7: Talking with the Chatbot\n",
        "\n",
        "define a method str_to_tokens which converts str questions to Integer tokens with padding.\n",
        "\n",
        "1. First, we take a question as input and predict the state values using enc_model.\n",
        "2. We set the state values in the decoder's LSTM.\n",
        "3. Then, we generate a sequence which contains the <start> element.\n",
        "4. We input this sequence in the dec_model.\n",
        "5. We replace the <start> element with the element which was predicted by the dec_model and update the state values.\n",
        "6. We carry out the above steps iteratively till we hit the <end> tag or the maximum answer length.\n",
        "\n"
      ]
    },
    {
      "cell_type": "code",
      "metadata": {
        "id": "oA7Yx45Li3wo"
      },
      "source": [
        "def str_to_tokens( sentence : str ):\n",
        "\n",
        "    words = sentence.lower().split()\n",
        "    tokens_list = list()\n",
        "  \n",
        "    for word in words:\n",
        "        tokens_list.append( tokenizer.word_index[ word ] ) \n",
        "    return preprocessing.sequence.pad_sequences( [tokens_list] , maxlen=maxlen_questions , padding='post')\n"
      ],
      "execution_count": null,
      "outputs": []
    },
    {
      "cell_type": "code",
      "metadata": {
        "id": "eUr4SQDveVb0"
      },
      "source": [
        "enc_model , dec_model = make_inference_models()\n",
        "\n",
        "for _ in range(10):\n",
        "    states_values = enc_model.predict( str_to_tokens( input( 'Enter question : ' ) ) )\n",
        "    empty_target_seq = np.zeros( ( 1 , 1 ) )\n",
        "    empty_target_seq[0, 0] = tokenizer.word_index['start']\n",
        "    stop_condition = False\n",
        "    decoded_translation = ''\n",
        "    while not stop_condition :\n",
        "        dec_outputs , h , c = dec_model.predict([ empty_target_seq ] + states_values )\n",
        "        sampled_word_index = np.argmax( dec_outputs[0, -1, :] )\n",
        "        sampled_word = None\n",
        "        for word , index in tokenizer.word_index.items() :\n",
        "            if sampled_word_index == index :\n",
        "                decoded_translation += ' {}'.format( word )\n",
        "                sampled_word = word\n",
        "        \n",
        "        if sampled_word == 'end' or len(decoded_translation.split()) > maxlen_answers:\n",
        "            stop_condition = True\n",
        "            \n",
        "        empty_target_seq = np.zeros( ( 1 , 1 ) )  \n",
        "        empty_target_seq[ 0 , 0 ] = sampled_word_index\n",
        "        states_values = [ h , c ] \n",
        "\n",
        "    print( decoded_translation )"
      ],
      "execution_count": null,
      "outputs": []
    },
    {
      "cell_type": "markdown",
      "metadata": {
        "id": "xPNjNwxUl2DO"
      },
      "source": [
        "# Conversion to TFLite \n",
        "\n",
        "We can convert our seq2seq model to a TensorFlow Lite model so that we can use it on edge devices\n"
      ]
    },
    {
      "cell_type": "code",
      "metadata": {
        "id": "Ywh_aJ-Ulxme"
      },
      "source": [
        "!pip install tf-nightly"
      ],
      "execution_count": null,
      "outputs": []
    },
    {
      "cell_type": "code",
      "metadata": {
        "id": "Y3C3SlT-mboI"
      },
      "source": [
        "converter = tf.lite.TFLiteConverter.from_keras_model( enc_model )\n",
        "buffer = converter.convert()\n",
        "open( 'enc_model.tflite' , 'wb' ).write( buffer )\n",
        "\n",
        "converter = tf.lite.TFLiteConverter.from_keras_model( dec_model )\n",
        "open( 'dec_model.tflite' , 'wb' ).write( buffer )"
      ],
      "execution_count": null,
      "outputs": []
    },
    {
      "cell_type": "code",
      "source": [],
      "metadata": {
        "id": "4irBQb-P1xMy"
      },
      "execution_count": null,
      "outputs": []
    }
  ]
}